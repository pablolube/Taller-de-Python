{
 "cells": [
  {
   "cell_type": "markdown",
   "id": "5b6e2d34",
   "metadata": {},
   "source": [
    "# ACTIVIDADES PREVIAS"
   ]
  },
  {
   "cell_type": "code",
   "execution_count": null,
   "id": "80074baf",
   "metadata": {},
   "outputs": [],
   "source": [
    "print(\"Libererias\")\n",
    "import sys\n",
    "import os\n",
    "import csv\n"
   ]
  },
  {
   "cell_type": "code",
   "execution_count": 49,
   "id": "fa789114",
   "metadata": {},
   "outputs": [
    {
     "name": "stdout",
     "output_type": "stream",
     "text": [
      "\n",
      "Total Hombres: 14471801\n",
      "Total Mujeres: 15248344\n",
      "--------------------\n",
      "Total de mayores de edad con secundario completo: 14148491\n",
      "--------------------\n"
     ]
    }
   ],
   "source": [
    "ruta = \"../Data/data_raw\"\n",
    "nombre_archivo=\"usu_individual_T324.txt\"\n",
    "ruta_archivo = os.path.join(ruta, nombre_archivo)\n",
    "\n",
    "\n",
    "# PUNTO 1 \n",
    "with open(ruta_archivo, encoding='utf-8') as archivo_csv:\n",
    "    reader = csv.reader(archivo_csv, delimiter=\";\")\n",
    "    encabezado=next(reader)\n",
    "    print() \n",
    "\n",
    "    #acumulador\n",
    "    masculino=0\n",
    "    femenino=0\n",
    "    mayores_edad_secu_completo=0\n",
    "\n",
    "    #mis filas\n",
    "    genero=11\n",
    "    pondero=9\n",
    "    educacion=encabezado.index(\"NIVEL_ED\")\n",
    "    edad=encabezado.index(\"CH06\")\n",
    "    encabezado.append(\"CH04_str\")\n",
    "    \n",
    "    for fila in reader:\n",
    "    \n",
    "    #GENERO \n",
    "        if int(fila[genero])==1:\n",
    "            masculino=masculino+int(fila[pondero])\n",
    "            fila.append('Masculino')\n",
    "                     \n",
    "        else:\n",
    "            femenino=femenino+int(fila[pondero])\n",
    "            fila.append('Femenino')\n",
    "        \n",
    "    #PERSONAS MAYORES DE EDAD Y ESTUDIOS SECUNDARIOS\n",
    "        if (int(fila[educacion]) in (4,5,6)) and int(fila[edad])>=18:\n",
    "            mayores_edad_secu_completo=mayores_edad_secu_completo+int(fila[pondero])\n",
    "   \n",
    "#CANTIDAD DE HOMBRES Y MUJERES EPH\n",
    "print(f\"Total Hombres: {masculino}\")\n",
    "print(f\"Total Mujeres: {femenino}\")\n",
    "print(\"-\"*20)\n",
    "print(f\"Total de mayores de edad con secundario completo: {mayores_edad_secu_completo}\")\n",
    "print(\"-\"*20)\n",
    "\n",
    "\n"
   ]
  },
  {
   "cell_type": "code",
   "execution_count": 51,
   "id": "24c29c58",
   "metadata": {},
   "outputs": [
    {
     "name": "stdout",
     "output_type": "stream",
     "text": [
      "El porcentaje de viviendas ocupadas por el/la propietario/a del terreno y la vivienda es: 60.0%\n",
      "Aglomerado con mayor cantidad de viviendas sin baño y más de dos ocupantes: 33 con un total de (8469) hogares\n",
      "Aglomerado con menor cantidad de viviendas sin baño y más de dos ocupantes: 6 con un total de (198) hogares\n"
     ]
    }
   ],
   "source": [
    "## Parte 2 - Con el archivo hogares\n",
    "ruta = \"../Data/data_raw\"\n",
    "nombre_archivo=\"usu_hogar_T324.txt\"\n",
    "ruta_archivo = os.path.join(ruta, nombre_archivo)\n",
    "with open(ruta_archivo, encoding='utf-8') as archivo_csv:\n",
    "    reader = csv.reader(archivo_csv, delimiter=\";\")\n",
    "    encabezado=next(reader)\n",
    "\n",
    "    #Filas indices\n",
    "    propietario=encabezado.index(\"II7\")\n",
    "    baño=encabezado.index(\"IV8\")\n",
    "    cant_hab=encabezado.index(\"IX_TOT\")\n",
    "    aglomerado=encabezado.index('AGLOMERADO')\n",
    "    pondera=encabezado.index('PONDERA')\n",
    "\n",
    "#inicializo variabales\n",
    "    prop=0\n",
    "    total_viviendas=0\n",
    "    aglomerado_contador={}\n",
    "    \n",
    "#Informen el porcentaje de viviendas que son ocupadas por el/la propietario/a de la vivienda y del terreno.\n",
    "    for fila in reader:\n",
    "        if fila[propietario]=='1':\n",
    "            prop+=int(fila[pondera])\n",
    "        total_viviendas+=int(fila[pondera])\n",
    "    \n",
    "# Informen el aglomerado con mayor y menor cantidad de viviendas con más de 2 ocupantes que no posean baño.\n",
    "        if fila[baño]=='2' and  int(fila[cant_hab])>2:\n",
    "            if fila[aglomerado] not in aglomerado_contador:\n",
    "                aglomerado_contador[fila[aglomerado]]=int(fila[pondera])\n",
    "            else:\n",
    "                aglomerado_contador[fila[aglomerado]]+=int(fila[pondera])\n",
    "\n",
    "print(f\"El porcentaje de viviendas ocupadas por el/la propietario/a del terreno y la vivienda es: {round((prop / total_viviendas) * 100, 2)}%\")\n",
    "\n",
    "aglo_max = max(aglomerado_contador, key=lambda x: aglomerado_contador[x])\n",
    "aglo_min = min(aglomerado_contador, key=lambda x: aglomerado_contador[x])\n",
    "\n",
    "print(f\"Aglomerado con mayor cantidad de viviendas sin baño y más de dos ocupantes: {aglo_max} con un total de ({aglomerado_contador[aglo_max]}) hogares\")\n",
    "print(f\"Aglomerado con menor cantidad de viviendas sin baño y más de dos ocupantes: {aglo_min} con un total de ({aglomerado_contador[aglo_min]}) hogares\")"
   ]
  },
  {
   "cell_type": "markdown",
   "id": "4ddf2783",
   "metadata": {},
   "source": [
    "# TP INTEGRADOR"
   ]
  },
  {
   "cell_type": "markdown",
   "id": "3a41a8df",
   "metadata": {},
   "source": [
    "## LIBERIAS"
   ]
  },
  {
   "cell_type": "code",
   "execution_count": 2,
   "id": "e2dd7806",
   "metadata": {},
   "outputs": [],
   "source": [
    "import sys\n",
    "import os\n",
    "import csv"
   ]
  },
  {
   "cell_type": "markdown",
   "id": "784e6ee1",
   "metadata": {},
   "source": [
    "## FUNCIONES"
   ]
  },
  {
   "cell_type": "markdown",
   "id": "3ef1c7c5",
   "metadata": {},
   "source": [
    "### FUNCIONES PROCESAMIENTO ARCHIVOS "
   ]
  },
  {
   "cell_type": "code",
   "execution_count": null,
   "id": "2abc383c",
   "metadata": {},
   "outputs": [
    {
     "name": "stdout",
     "output_type": "stream",
     "text": [
      "✅ Archivo CSV guardado en: ../Data/data_clean\\individuales_unificado.csv\n",
      "✅ Archivo CSV guardado en: ../Data/data_clean\\hogares_unificado.csv\n"
     ]
    }
   ],
   "source": [
    "import sys\n",
    "import os\n",
    "import csv\n",
    "\n",
    "# Agregamos el path si se necesitan módulos de ../Data\n",
    "sys.path.append(os.path.abspath(\"../Data\"))\n",
    "\n",
    "def leer_archivo(ruta_archivo):\n",
    "    with open(ruta_archivo, encoding='utf-8') as archivo_csv:\n",
    "        reader = csv.reader(archivo_csv, delimiter=\";\")\n",
    "        return list(reader)\n",
    "\n",
    "def procesar_archivos(ruta, tipo=\"hogar\"):\n",
    "    datos_unificados = []\n",
    "    cabecera = None\n",
    "\n",
    "    for nombre_archivo in os.listdir(ruta):\n",
    "        if tipo in nombre_archivo and nombre_archivo.endswith(\".txt\"):\n",
    "            ruta_archivo = os.path.join(ruta, nombre_archivo)\n",
    "            filas = leer_archivo(ruta_archivo)\n",
    "\n",
    "            if not filas:\n",
    "                continue\n",
    "\n",
    "            if cabecera is None:\n",
    "                cabecera = filas[0]\n",
    "                datos_unificados.extend(filas[1:])\n",
    "            else:\n",
    "                if filas[0] == cabecera:\n",
    "                    datos_unificados.extend(filas[1:])\n",
    "                else:\n",
    "                    print(f\"⚠️ Cabecera diferente en: {nombre_archivo}\")\n",
    "\n",
    "    return [cabecera] + datos_unificados if cabecera else []\n",
    "\n",
    "def guardar_en_csv(datos, ruta_destino, nombre_archivo=\"hogares_unificados.csv\"):\n",
    "    ruta_completa = os.path.join(ruta_destino, nombre_archivo)\n",
    "    os.makedirs(ruta_destino, exist_ok=True)\n",
    "\n",
    "    with open(ruta_completa, mode='w', encoding='utf-8', newline='') as archivo_csv:\n",
    "        writer = csv.writer(archivo_csv, delimiter=\";\")\n",
    "        writer.writerows(datos)\n",
    "\n",
    "    print(f\"✅ Archivo CSV guardado en: {ruta_completa}\")\n",
    "\n",
    "\n"
   ]
  },
  {
   "cell_type": "markdown",
   "id": "dfdbc444",
   "metadata": {},
   "source": [
    "### FUNCIONES PROCESAMIENTO INDIVIDUAL\n"
   ]
  },
  {
   "cell_type": "code",
   "execution_count": 40,
   "id": "f992a93e",
   "metadata": {},
   "outputs": [],
   "source": [
    "def clasificar_individuo_genero(genero_num):\n",
    "                ch04 = int(genero_num)\n",
    "                if ch04==1:\n",
    "                    return 'Masculino' \n",
    "                elif ch04==2:\n",
    "                    return'Femenino'\n",
    "                \n",
    "def clasificar_condicion_laboral(estado, cat_ocup):\n",
    "    estado = int(estado)\n",
    "    cat_ocup = int(cat_ocup)\n",
    "    \n",
    "    if estado == 1 and cat_ocup in (1, 2):\n",
    "        return 'Ocupado autónomo'\n",
    "    elif estado == 1 and cat_ocup in (3, 4, 9):\n",
    "        return 'Ocupado dependiente'\n",
    "    elif estado == 2:\n",
    "        return 'Ocupado desocupado'\n",
    "    elif estado == 3:\n",
    "        return 'Inactivo'\n",
    "    elif estado == 4:\n",
    "        return 'Fuera de categoría/sin información'\n",
    "    return 'Desconocido'\n",
    "\n",
    "def procesar_individuos_fila(fila):\n",
    "        \n",
    "        fila['CH04_str']=clasificar_individuo_genero(fila['CH04'])\n",
    "\n",
    "        educacion = {1: \"Primario incompleto\",2: \"Primario completo\",3: \"Secundario incompleto\",4: \"Secundario completo\",5: \"Superior o universitario\",6: \"Superior o universitario\",7: \"Sin informacion\",9: \"Sin informacion\"}\n",
    "        fila['NIVEL_ED_str'] = educacion.get(int(fila['NIVEL_ED']), \"Desconocido\") if int(fila['NIVEL_ED']) in educacion else \"Desconocido\"\n",
    "        fila['CONDICION_LABORAL']=clasificar_condicion_laboral(fila[\"ESTADO\"],fila[\"CAT_OCUP\"])\n",
    "        return fila\n",
    "\n",
    "        #6 e debe generar una nueva columna llamada UNIVERSITARIO numérica que indica si   una persona mayor de edad ha completado el como mínimo el nivel universitario (1:Sí, 0: No, 2: no aplica). -- LO HACE DARIO\n"
   ]
  },
  {
   "cell_type": "markdown",
   "id": "53a6856f",
   "metadata": {},
   "source": [
    "### FUNCIONES PROCESAMIENTO HOGARES"
   ]
  },
  {
   "cell_type": "code",
   "execution_count": 41,
   "id": "363a350f",
   "metadata": {},
   "outputs": [],
   "source": [
    "             \n",
    "def clasificar_hogar_hab(cant_personas):\n",
    "    personas = int(cant_personas)\n",
    "    \n",
    "    if personas == 1:\n",
    "        tipo = \"Unipersonal\"\n",
    "    elif 2 <= personas <= 4:\n",
    "        tipo = \"Nuclear\"\n",
    "    elif personas >= 5:\n",
    "        tipo = \"Extendido\"\n",
    "    return tipo\n",
    "\n",
    "def clasificar_hogar_techo(material_nro):\n",
    "    \n",
    "    material_nro = int(material_nro)\n",
    "    \n",
    "    if 1 <= material_nro <= 4:\n",
    "        tipo = \"Material durable\"\n",
    "    elif 5 <= material_nro <= 7:\n",
    "        tipo = \"Material precario\"\n",
    "    elif material_nro == 9:\n",
    "        tipo = \"No aplica\"\n",
    "    return tipo\n",
    "\n",
    "def clasificar_hogar_densidad_hab(cant_personas, cant_hab):\n",
    "    cant_hab=int(cant_hab)\n",
    "    cant_personas=int(cant_personas)\n",
    "    print(f\"INGRESO: cant_personas={cant_personas}, cant_hab={cant_hab}\")\n",
    "        # Intentamos dividir las variables\n",
    "    personas_por_hab = float(cant_personas / cant_hab)\n",
    "\n",
    "        # Clasificación según la densidad\n",
    "    if personas_por_hab < 1:\n",
    "        tipo = \"Bajo\"\n",
    "    elif 1 <= personas_por_hab <= 2:\n",
    "        tipo = \"Medio\"\n",
    "    elif personas_por_hab > 2:\n",
    "        tipo = \"Alto\"\n",
    "        \n",
    "    return tipo\n",
    "\n",
    "def clasificar_hogar_habitabilidad(agua, origen_agua, baño, ubi_baño, tipo_baño, desague, techo_material, piso_material):\n",
    " \n",
    "    agua=int(agua)\n",
    "    origen_agua=int(origen_agua)\n",
    "    baño=int(baño)\n",
    "    tipo_baño=int(tipo_baño)\n",
    "    desague=int(desague)\n",
    "    piso_material=int(piso_material)\n",
    "    \n",
    "    problemas = 0\n",
    "    \n",
    "    # 1. Agua \n",
    "    if agua == 2:  # Agua fuera de la vivienda, pero dentro del terreno\n",
    "        problemas += 2\n",
    "    elif agua == 3:  # Agua fuera del terreno\n",
    "        problemas += 3\n",
    "\n",
    "    # 2. Origen del agua\n",
    "    if origen_agua == 2:  # Perforación con bomba a motor\n",
    "        problemas += 1\n",
    "    elif origen_agua == 3:  # Perforación con bomba manual\n",
    "        problemas += 2\n",
    "    elif origen_agua == 4:  # Otra fuente\n",
    "        problemas += 3\n",
    "\n",
    "    # 3. Baño\n",
    "    if baño == 2:\n",
    "        return 'Insuficiente'\n",
    "\n",
    "    # 4. Ubicación del baño\n",
    "    if  ubi_baño == 2:  # Baño fuera de la vivienda, pero dentro del terreno\n",
    "        problemas += 1\n",
    "    elif ubi_baño == 3:   # Baño fuera del terreno\n",
    "        problemas += 2\n",
    "\n",
    "    # 5. Tipo de baño\n",
    "    if tipo_baño == 1:  # Inodoro con arrastre de agua\n",
    "        problemas += 0\n",
    "    elif tipo_baño == 2:  # Inodoro sin arrastre de agua\n",
    "        problemas += 3\n",
    "    else:  # Letrina\n",
    "        problemas += 4\n",
    "\n",
    "    # 6. Desagüe del baño\n",
    "    if desague == 2:  # Desagüe a cámara séptica o pozo ciego\n",
    "        problemas += 1\n",
    "    elif desague == 3:  # Desagüe solo a pozo ciego\n",
    "        problemas += 2\n",
    "    elif desague == 4:  # Desagüe a hoyo/excavación\n",
    "        problemas += 3\n",
    "\n",
    "    # 7. Material del techo\n",
    "    if techo_material == \"Material precario\":\n",
    "        problemas += 6\n",
    "\n",
    "    # 8. Material del piso\n",
    "    if piso_material == 2:\n",
    "        problemas += 1\n",
    "    else:  # Material precario\n",
    "        problemas += 2\n",
    "\n",
    "    # Clasificación final según los problemas\n",
    "    if problemas >= 10:\n",
    "        return \"Insuficiente\"\n",
    "    elif 6 <= problemas < 10:\n",
    "        return \"Regular\"\n",
    "    elif 4 <= problemas < 6:\n",
    "        return \"Saludable\"\n",
    "    else:\n",
    "        return \"Buena\"\n",
    "    \n",
    "def proceso_hogar_fila(fila):        \n",
    "    #7. Se debe generar una nueva columna llamada TIPO_HOGAR en funcion de la cant hab\n",
    "    fila['TIPO_HOGAR']=clasificar_hogar_hab(fila['IX_TOT'])\n",
    "\n",
    "    #8. Se debe generar una nueva columna llamada MATERIAL_TECHUMBRE\n",
    "    fila['MATERIAL_TECHUMBRE']=clasificar_hogar_techo(fila['V4'])\n",
    "\n",
    "    #9. Se debe generar una nueva columna llamada DENSIDAD_HOGAR\n",
    "    fila['DENSIDAD_HOGAR']=clasificar_hogar_densidad_hab(fila['IX_TOT'],fila['IV2'])\n",
    "\n",
    "    #10. Condiciones de habitabilidad\n",
    "    fila['CONDICION_DE_HABITABILIDAD']=clasificar_hogar_habitabilidad(fila['IV6'],fila['IV7'],fila['IV8'],fila['IV9'],fila['IV10'],fila['IV11'],fila['MATERIAL_TECHUMBRE'],fila['IV3'])\n",
    "    return fila\n"
   ]
  },
  {
   "cell_type": "markdown",
   "id": "d1570875",
   "metadata": {},
   "source": [
    "## ACTIVIDAD "
   ]
  },
  {
   "cell_type": "markdown",
   "id": "ed9ef638",
   "metadata": {},
   "source": [
    "1. Se debe definir una carpeta, cuyo path debe ser confi gurable vía una variable, donde se almacenarán el conjunto de archivos de “individuos” y “hogares”\n",
    "ruta_destino = \"../Data/data_clean\"\n",
    "2. Se debe generar una sección de código dentro del notebook que busque en la mencionada carpeta cada uno de los archivos “individuos” y “hogares” y los una. Es decir, si en la carpeta tenemos tres archivos de individuos (año 2023 trimestre 1, año 2023 trimestre 2, año 2024 trimestre 1) se debe leer la información de cada uno y generar un dataset que contenga toda la información.\n",
    "ruta = \"../Data/data_raw\"\n"
   ]
  },
  {
   "cell_type": "code",
   "execution_count": 42,
   "id": "018212f9",
   "metadata": {},
   "outputs": [
    {
     "name": "stdout",
     "output_type": "stream",
     "text": [
      "✅ Archivo CSV guardado en: ../Data/data_clean\\individuales_unificado.csv\n",
      "✅ Archivo CSV guardado en: ../Data/data_clean\\hogares_unificado.csv\n"
     ]
    }
   ],
   "source": [
    "# Ruta los archivos \n",
    "ruta = \"../Data/data_raw\"\n",
    "ruta_destino = \"../Data/data_clean\"\n",
    "\n",
    "# Procesar y guardar individuos\n",
    "individual = procesar_archivos(ruta, tipo=\"individual\")\n",
    "guardar_en_csv(individual, ruta_destino, \"individuales_unificado.csv\")\n",
    "\n",
    "# Procesar y guardar hogares\n",
    "hogares = procesar_archivos(ruta, tipo=\"hogar\")\n",
    "guardar_en_csv(hogares, ruta_destino, \"hogares_unificado.csv\")\n"
   ]
  },
  {
   "cell_type": "code",
   "execution_count": 1,
   "id": "5f61ce3a",
   "metadata": {},
   "outputs": [
    {
     "ename": "TypeError",
     "evalue": "DictWriter.__init__() missing 1 required positional argument: 'fieldnames'",
     "output_type": "error",
     "traceback": [
      "\u001b[31m---------------------------------------------------------------------------\u001b[39m",
      "\u001b[31mTypeError\u001b[39m                                 Traceback (most recent call last)",
      "\u001b[36mCell\u001b[39m\u001b[36m \u001b[39m\u001b[32mIn[1]\u001b[39m\u001b[32m, line 21\u001b[39m\n\u001b[32m     19\u001b[39m \u001b[38;5;66;03m# 2. Abrir el archivo nuevamente en modo escritura para sobrescribirlo\u001b[39;00m\n\u001b[32m     20\u001b[39m \u001b[38;5;28;01mwith\u001b[39;00m ruta_archivo.open(mode=\u001b[33m'\u001b[39m\u001b[33mw\u001b[39m\u001b[33m'\u001b[39m, encoding=\u001b[33m'\u001b[39m\u001b[33mutf-8\u001b[39m\u001b[33m'\u001b[39m, newline=\u001b[33m'\u001b[39m\u001b[33m'\u001b[39m) \u001b[38;5;28;01mas\u001b[39;00m archivo_csv:\n\u001b[32m---> \u001b[39m\u001b[32m21\u001b[39m     writer = \u001b[43mcsv\u001b[49m\u001b[43m.\u001b[49m\u001b[43mDictWriter\u001b[49m\u001b[43m(\u001b[49m\u001b[43marchivo_csv\u001b[49m\u001b[43m,\u001b[49m\u001b[43m \u001b[49m\u001b[43mdelimiter\u001b[49m\u001b[43m=\u001b[49m\u001b[33;43m\"\u001b[39;49m\u001b[33;43m;\u001b[39;49m\u001b[33;43m\"\u001b[39;49m\u001b[43m)\u001b[49m\n\u001b[32m     22\u001b[39m     writer.writeheader(filas_procesadas.keys)\n\u001b[32m     23\u001b[39m     writer.writerows(filas_procesadas)\n",
      "\u001b[31mTypeError\u001b[39m: DictWriter.__init__() missing 1 required positional argument: 'fieldnames'"
     ]
    }
   ],
   "source": [
    "from pathlib import Path\n",
    "import csv\n",
    "\n",
    "ruta = \"../Data/data_clean\"\n",
    "archivo = \"individuales_unificado.txt\"\n",
    "ruta_archivo = Path(ruta) / archivo\n",
    "\n",
    "# Lista para almacenar las filas procesadas\n",
    "filas_procesadas = []\n",
    "\n",
    "# 1. Abrir el archivo en modo lectura para procesar las filas\n",
    "with ruta_archivo.open(mode='r', encoding='utf-8') as archivo_csv:\n",
    "    reader = csv.DictReader(archivo_csv, delimiter=\";\")\n",
    "    \n",
    "    for fila in reader:\n",
    "        fila_procesada = proceso_hogar_fila(fila)  \n",
    "        filas_procesadas.append(fila_procesada)\n",
    "\n",
    "# 2. Abrir el archivo nuevamente en modo escritura para sobrescribirlo\n",
    "with ruta_archivo.open(mode='w', encoding='utf-8', newline='') as archivo_csv:\n",
    "    writer = csv.DictWriter(archivo_csv, delimiter=\";\")\n",
    "    writer.writeheader(filas_procesadas.keys)\n",
    "    writer.writerows(filas_procesadas)\n",
    "\n",
    "print(\"✅ Archivo procesado y sobrescrito correctamente.\")\n",
    "\n",
    "# 3. Verificar el resultado\n",
    "with ruta_archivo.open(mode='r', encoding='utf-8') as archivo_csv:\n",
    "    reader = csv.reader(archivo_csv, delimiter=\";\")\n",
    "    for fila in reader:\n",
    "        print(fila)\n"
   ]
  },
  {
   "cell_type": "code",
   "execution_count": null,
   "id": "da1ef562",
   "metadata": {},
   "outputs": [],
   "source": []
  }
 ],
 "metadata": {
  "kernelspec": {
   "display_name": "venv",
   "language": "python",
   "name": "python3"
  },
  "language_info": {
   "codemirror_mode": {
    "name": "ipython",
    "version": 3
   },
   "file_extension": ".py",
   "mimetype": "text/x-python",
   "name": "python",
   "nbconvert_exporter": "python",
   "pygments_lexer": "ipython3",
   "version": "3.12.9"
  }
 },
 "nbformat": 4,
 "nbformat_minor": 5
}
