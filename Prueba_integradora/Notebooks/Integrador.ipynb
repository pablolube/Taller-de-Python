{
 "cells": [
  {
   "cell_type": "code",
   "execution_count": null,
   "id": "994527ae",
   "metadata": {},
   "outputs": [],
   "source": [
    "## FUNCIONES"
   ]
  },
  {
   "cell_type": "code",
   "execution_count": 3,
   "id": "1c400a22",
   "metadata": {},
   "outputs": [],
   "source": [
    "import sys\n",
    "import os\n",
    "import csv\n",
    "\n",
    "sys.path.append(os.path.abspath(\"../Data\"))\n",
    "\n",
    "def leer_archivo(ruta_archivo):\n",
    "    with open(ruta_archivo, encoding='utf-8') as archivo_csv:\n",
    "        reader = csv.reader(archivo_csv, delimiter=\";\")\n",
    "        return list(reader)\n",
    "\n",
    "def procesar_archivos(ruta, tipo=\"hogar\"):\n",
    "    datos_unificados = []\n",
    "    cabecera = None\n",
    "\n",
    "    for nombre_archivo in os.listdir(ruta):\n",
    "        if tipo in nombre_archivo and nombre_archivo.endswith(\".txt\"):\n",
    "            ruta_archivo = os.path.join(ruta, nombre_archivo)\n",
    "            filas = leer_archivo(ruta_archivo)\n",
    "\n",
    "            if not filas:\n",
    "                continue\n",
    "\n",
    "            if cabecera is None:\n",
    "                cabecera = filas[0]\n",
    "                datos_unificados.extend(filas[1:]) \n",
    "            else:\n",
    "                if filas[0] == cabecera:\n",
    "                    datos_unificados.extend(filas[1:])\n",
    "                else:\n",
    "                    print(f\"⚠️ Cabecera diferente en: {nombre_archivo}\")\n",
    "\n",
    "    return [cabecera] + datos_unificados\n",
    "\n",
    "def guardar_en_csv(datos, ruta_destino, nombre_archivo=\"hogares_unificados.csv\"):\n",
    "    # Crear la ruta completa del archivo\n",
    "    ruta_completa = os.path.join(ruta_destino, nombre_archivo)\n",
    "\n",
    "    # Asegurarse de que la carpeta de destino exista (solo la carpeta, no el archivo)\n",
    "    os.makedirs(ruta_destino, exist_ok=True)\n",
    "\n",
    "    # Guardar los datos en el archivo CSV\n",
    "    with open(ruta_completa, mode='w', encoding='utf-8', newline='') as archivo_csv:\n",
    "        writer = csv.writer(archivo_csv, delimiter=\";\")\n",
    "        writer.writerows(datos)\n",
    "    \n",
    "    print(f\"✅ Archivo CSV guardado en: {ruta_completa}\")\n"
   ]
  },
  {
   "cell_type": "markdown",
   "id": "5061fe69",
   "metadata": {},
   "source": [
    "# Actividades Previas"
   ]
  },
  {
   "cell_type": "markdown",
   "id": "428deae7",
   "metadata": {},
   "source": [
    "## Parte 1 - Con el archivo individual"
   ]
  },
  {
   "cell_type": "code",
   "execution_count": 58,
   "id": "89374813",
   "metadata": {},
   "outputs": [
    {
     "name": "stdout",
     "output_type": "stream",
     "text": [
      "\n",
      "Total Hombres: 14471801\n",
      "Total Mujeres: 15248344\n",
      "--------------------\n",
      "Total de mayores de edad con secundario completo: 14148491\n",
      "--------------------\n"
     ]
    }
   ],
   "source": [
    "ruta = \"../Data/data_raw\"\n",
    "nombre_archivo=\"usu_individual_T324.txt\"\n",
    "ruta_archivo = os.path.join(ruta, nombre_archivo)\n",
    "with open(ruta_archivo, encoding='utf-8') as archivo_csv:\n",
    "    reader = csv.reader(archivo_csv, delimiter=\";\")\n",
    "    encabezado=next(reader)\n",
    "    print() \n",
    "\n",
    "    #acumulador\n",
    "    masculino=0\n",
    "    femenino=0\n",
    "    mayores_edad_secu_completo=0\n",
    "\n",
    "    #mis filas\n",
    "    genero=11\n",
    "    pondero=9\n",
    "    educacion=encabezado.index(\"NIVEL_ED\")\n",
    "    edad=encabezado.index(\"CH06\")\n",
    "    encabezado.append(\"CH04_str\")\n",
    "    \n",
    "    for fila in reader:\n",
    "    \n",
    "    #GENERO \n",
    "        if int(fila[genero])==1:\n",
    "            masculino=masculino+int(fila[pondero])\n",
    "            fila.append('Masculino')\n",
    "                     \n",
    "        else:\n",
    "            femenino=femenino+int(fila[pondero])\n",
    "            fila.append('Femenino')\n",
    "        \n",
    "    #PERSONAS MAYORES DE EDAD Y ESTUDIOS SECUNDARIOS\n",
    "        if (int(fila[educacion]) in (4,5,6)) and int(fila[edad])>=18:\n",
    "            mayores_edad_secu_completo=mayores_edad_secu_completo+int(fila[pondero])\n",
    "   \n",
    "#CANTIDAD DE HOMBRES Y MUJERES EPH\n",
    "print(f\"Total Hombres: {masculino}\")\n",
    "print(f\"Total Mujeres: {femenino}\")\n",
    "print(\"-\"*20)\n",
    "print(f\"Total de mayores de edad con secundario completo: {mayores_edad_secu_completo}\")\n",
    "print(\"-\"*20)"
   ]
  },
  {
   "cell_type": "markdown",
   "id": "ddf001fa",
   "metadata": {},
   "source": [
    "## Parte 2 - Con el archivo hogares"
   ]
  },
  {
   "cell_type": "code",
   "execution_count": 6,
   "id": "bfbb797b",
   "metadata": {},
   "outputs": [
    {
     "name": "stdout",
     "output_type": "stream",
     "text": [
      "El porcentaje de viviendas ocupadas por el/la propietario/a del terreno y la vivienda es: 60.0%\n",
      "Aglomerado con mayor cantidad de viviendas sin baño y más de dos ocupantes: 33 con un total de (8469) hogares\n",
      "Aglomerado con menor cantidad de viviendas sin baño y más de dos ocupantes: 6 con un total de (198) hogares\n"
     ]
    }
   ],
   "source": [
    "ruta = \"../Data/data_raw\"\n",
    "nombre_archivo=\"usu_hogar_T324.txt\"\n",
    "ruta_archivo = os.path.join(ruta, nombre_archivo)\n",
    "with open(ruta_archivo, encoding='utf-8') as archivo_csv:\n",
    "    reader = csv.reader(archivo_csv, delimiter=\";\")\n",
    "    encabezado=next(reader)\n",
    "\n",
    "    #Filas indices\n",
    "    propietario=encabezado.index(\"II7\")\n",
    "    baño=encabezado.index(\"IV8\")\n",
    "    cant_hab=encabezado.index(\"IX_TOT\")\n",
    "    aglomerado=encabezado.index('AGLOMERADO')\n",
    "    pondera=encabezado.index('PONDERA')\n",
    "\n",
    "#inicializo variabales\n",
    "    prop=0\n",
    "    total_viviendas=0\n",
    "    aglomerado_contador={}\n",
    "    \n",
    "#Informen el porcentaje de viviendas que son ocupadas por el/la propietario/a de la vivienda y del terreno.\n",
    "    for fila in reader:\n",
    "        if fila[propietario]=='1':\n",
    "            prop+=int(fila[pondera])\n",
    "        total_viviendas+=int(fila[pondera])\n",
    "    \n",
    "# Informen el aglomerado con mayor y menor cantidad de viviendas con más de 2 ocupantes que no posean baño.\n",
    "        if fila[baño]=='2' and  int(fila[cant_hab])>2:\n",
    "            if fila[aglomerado] not in aglomerado_contador:\n",
    "                aglomerado_contador[fila[aglomerado]]=int(fila[pondera])\n",
    "            else:\n",
    "                aglomerado_contador[fila[aglomerado]]+=int(fila[pondera])\n",
    "\n",
    "print(f\"El porcentaje de viviendas ocupadas por el/la propietario/a del terreno y la vivienda es: {round((prop / total_viviendas) * 100, 2)}%\")\n",
    "\n",
    "aglo_max = max(aglomerado_contador, key=lambda x: aglomerado_contador[x])\n",
    "aglo_min = min(aglomerado_contador, key=lambda x: aglomerado_contador[x])\n",
    "\n",
    "print(f\"Aglomerado con mayor cantidad de viviendas sin baño y más de dos ocupantes: {aglo_max} con un total de ({aglomerado_contador[aglo_max]}) hogares\")\n",
    "print(f\"Aglomerado con menor cantidad de viviendas sin baño y más de dos ocupantes: {aglo_min} con un total de ({aglomerado_contador[aglo_min]}) hogares\")"
   ]
  },
  {
   "cell_type": "markdown",
   "id": "b8991e40",
   "metadata": {},
   "source": [
    "## TAREAS"
   ]
  },
  {
   "cell_type": "markdown",
   "id": "df255c99",
   "metadata": {},
   "source": [
    "1. Se debe definir una carpeta, cuyo path debe ser confi gurable vía una variable, donde se almacenarán el conjunto de archivos de “individuos” y “hogares”"
   ]
  },
  {
   "cell_type": "code",
   "execution_count": null,
   "id": "b8d0c89d",
   "metadata": {},
   "outputs": [],
   "source": [
    "ruta_destino = \"../Data/data_clean\""
   ]
  },
  {
   "cell_type": "markdown",
   "id": "5e04c2f3",
   "metadata": {},
   "source": [
    "2. Se debe generar una sección de código dentro del notebook que busque en la mencionada carpeta cada uno de los archivos “individuos” y “hogares” y los una. Es decir, si en la carpeta tenemos tres archivos de individuos (año 2023 trimestre 1, año 2023 trimestre 2, año 2024 trimestre 1) se debe leer la información de cada uno y generar un dataset que contenga toda la información."
   ]
  },
  {
   "cell_type": "code",
   "execution_count": null,
   "id": "e902c891",
   "metadata": {},
   "outputs": [
    {
     "name": "stdout",
     "output_type": "stream",
     "text": [
      "✅ Archivo CSV guardado en: ../Data/data_clean\\individuales_unificado\n",
      "✅ Archivo CSV guardado en: ../Data/data_clean\\hogares_unificado\n"
     ]
    }
   ],
   "source": [
    "ruta = \"../Data/data_raw\"\n",
    "\n",
    "#Proceso Dataset individuos \n",
    "individual=procesar_archivos(ruta, tipo=\"individual\")\n",
    "ruta_destino = \"../Data/data_clean\"\n",
    "guardar_en_csv(individual,ruta_destino,\"individuales_unificado\")\n",
    "\n",
    "#Proceso  Dataset hogares \n",
    "hogares=procesar_archivos(ruta, tipo=\"hogar\")\n",
    "\n",
    "guardar_en_csv(hogares,ruta_destino,\"hogares_unificado\")"
   ]
  },
  {
   "cell_type": "markdown",
   "id": "67a2aa9a",
   "metadata": {},
   "source": [
    "## ABRO UN ARCHIVO"
   ]
  },
  {
   "cell_type": "markdown",
   "id": "bc2c3ec5",
   "metadata": {},
   "source": [
    "3. Se debe traducir los valores CH04 numéricos a \"Masculino\" y \"Femenino\" según corresponda. El resultado se debe almacenar en una nueva columna llamada CH04_str."
   ]
  },
  {
   "cell_type": "markdown",
   "id": "d1570875",
   "metadata": {},
   "source": [
    "# Informacion individuos"
   ]
  },
  {
   "cell_type": "code",
   "execution_count": 30,
   "id": "408b7093",
   "metadata": {},
   "outputs": [
    {
     "name": "stdout",
     "output_type": "stream",
     "text": [
      "\n"
     ]
    }
   ],
   "source": [
    "ruta = \"../Data/data_raw\"\n",
    "nombre_archivo=\"usu_individual_T324.txt\"\n",
    "ruta_archivo = os.path.join(ruta, nombre_archivo)\n",
    "with open(ruta_archivo, encoding='utf-8') as archivo_csv:\n",
    "    reader = csv.reader(archivo_csv, delimiter=\";\")\n",
    "    encabezado=next(reader)\n",
    "    print() # o NIVEL_ED\" CH12\n",
    "\n",
    "    #mis filas\n",
    "    genero=11\n",
    "    pondero=9\n",
    "    educacion=encabezado.index(\"NIVEL_ED\")\n",
    "    edad=encabezado.index(\"CH06\")\n",
    "    \n",
    "    encabezado.append(\"CH04_str\")\n",
    "    \n",
    "    for fila in reader:\n",
    "    \n",
    "    #GENERO \n",
    "        if int(fila[genero])==1:\n",
    "            fila.append('Masculino')\n",
    "                     \n",
    "        else:\n",
    "            fila.append('Femenino')        \n",
    "            \n",
    "                     \n",
    "        \n",
    "\n",
    "\n"
   ]
  },
  {
   "cell_type": "code",
   "execution_count": null,
   "id": "9905b68f",
   "metadata": {},
   "outputs": [],
   "source": []
  },
  {
   "cell_type": "markdown",
   "id": "030f7c59",
   "metadata": {},
   "source": [
    "Informen el aglomerado con mayor y menor cantidad de viviendas con más de 2 ocupantes que no posean baño.\n",
    "\n"
   ]
  },
  {
   "cell_type": "code",
   "execution_count": null,
   "id": "755cd1dc",
   "metadata": {},
   "outputs": [],
   "source": []
  }
 ],
 "metadata": {
  "kernelspec": {
   "display_name": "venv",
   "language": "python",
   "name": "python3"
  },
  "language_info": {
   "codemirror_mode": {
    "name": "ipython",
    "version": 3
   },
   "file_extension": ".py",
   "mimetype": "text/x-python",
   "name": "python",
   "nbconvert_exporter": "python",
   "pygments_lexer": "ipython3",
   "version": "3.12.9"
  }
 },
 "nbformat": 4,
 "nbformat_minor": 5
}
