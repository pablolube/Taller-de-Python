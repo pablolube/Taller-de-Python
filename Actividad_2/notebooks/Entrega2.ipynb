{
 "cells": [
  {
   "cell_type": "code",
   "execution_count": 35,
   "metadata": {},
   "outputs": [],
   "source": [
    "#   Librerias \n"
   ]
  },
  {
   "cell_type": "markdown",
   "metadata": {},
   "source": [
    "# Python 2025 - Actividad 2"
   ]
  },
  {
   "cell_type": "markdown",
   "metadata": {},
   "source": [
    "## Objetivos"
   ]
  },
  {
   "cell_type": "markdown",
   "metadata": {},
   "source": [
    "- Resolver problemas más complejos utilizando estructuras de datos adecuadas.  \n",
    "- Aplicar correctamente el uso de Jupyter Notebook.  \n",
    "- Desarrollar soluciones considerando dependencias y buenas prácticas.  "
   ]
  },
  {
   "cell_type": "markdown",
   "metadata": {},
   "source": [
    "## 1. Análisis del Zen de Python"
   ]
  },
  {
   "cell_type": "markdown",
   "metadata": {},
   "source": [
    "Copie el texto del Zen de Python en una variable e imprima todas las líneas cuya segunda\n",
    "palabra comience con una vocal (A, E, I, O, U, a, e, i, o, u).\n",
    "El Zen de Python es una colección de principios que guían la filosofía de diseño de Python,\n",
    "escrita en forma de aforismos. Resalta la simplicidad, legibilidad y claridad en el código.\n",
    "Para verlo en Python, ejecute en la consola import this\n",
    "Para este punto debe colocar el contenido del Zen de python en una variable string:"
   ]
  },
  {
   "cell_type": "code",
   "execution_count": 36,
   "metadata": {},
   "outputs": [
    {
     "name": "stdout",
     "output_type": "stream",
     "text": [
      "Ruta de 'src': c:\\Users\\PC\\Documents\\1) Estudios y Programacion\\Facultad\\Taller\\Taller-de-Python\\Actividad_2\\src\n"
     ]
    }
   ],
   "source": [
    "import sys\n",
    "import os\n",
    "\n",
    "# Ajustar la ruta para que Python reconozca la carpeta \"src\"\n",
    "ruta_proyecto = os.path.abspath(os.path.join(\"..\"))  \n",
    "sys.path.append(ruta_proyecto) \n",
    "# Verificación (debe mostrar la ruta a \"src/\")\n",
    "print(\"Ruta de 'src':\", os.path.join(ruta_proyecto, \"src\"))"
   ]
  },
  {
   "cell_type": "code",
   "execution_count": 37,
   "metadata": {},
   "outputs": [],
   "source": [
    "import this"
   ]
  },
  {
   "cell_type": "markdown",
   "metadata": {},
   "source": [
    "Entrada"
   ]
  },
  {
   "cell_type": "code",
   "execution_count": 38,
   "metadata": {},
   "outputs": [],
   "source": [
    "zen_text=\"\"\"The Zen of Python, by Tim Peters\n",
    "\n",
    "Beautiful is better than ugly.\n",
    "Explicit is better than implicit.\n",
    "Simple is better than complex.\n",
    "Complex is better than complicated.\n",
    "Flat is better than nested.\n",
    "Sparse is better than dense.\n",
    "Readability counts.\n",
    "Special cases aren't special enough to break the rules.\n",
    "Although practicality beats purity.\n",
    "Errors should never pass silently.\n",
    "Unless explicitly silenced.\n",
    "In the face of ambiguity, refuse the temptation to guess.\n",
    "There should be one-- and preferably only one --obvious way to do it.\n",
    "Although that way may not be obvious at first unless you're Dutch.\n",
    "Now is better than never.\n",
    "Although never is often better than *right* now.\n",
    "If the implementation is hard to explain, it's a bad idea.\n",
    "If the implementation is easy to explain, it may be a good idea.\n",
    "Namespaces are one honking great idea -- let's do more of those!\"\"\""
   ]
  },
  {
   "cell_type": "code",
   "execution_count": 39,
   "metadata": {},
   "outputs": [
    {
     "name": "stdout",
     "output_type": "stream",
     "text": [
      "Beautiful is better than ugly.\n",
      "Explicit is better than implicit.\n",
      "Simple is better than complex.\n",
      "Complex is better than complicated.\n",
      "Flat is better than nested.\n",
      "Sparse is better than dense.\n",
      "Unless explicitly silenced.\n",
      "Now is better than never.\n",
      "Namespaces are one honking great idea -- let's do more of those!\n"
     ]
    }
   ],
   "source": [
    "#SOLUCIÓN\n",
    "from src import filtrar_2dapalabra_vocal\n",
    "filtrar_2dapalabra_vocal(zen_text)"
   ]
  },
  {
   "cell_type": "markdown",
   "metadata": {},
   "source": [
    "## 2. Título más largo\n",
    "Dado un listado de títulos de streams en Twitch:"
   ]
  },
  {
   "cell_type": "markdown",
   "metadata": {},
   "source": [
    "Encuentre el título con más palabras y muéstrelo en pantalla."
   ]
  },
  {
   "cell_type": "code",
   "execution_count": 40,
   "metadata": {},
   "outputs": [],
   "source": [
    "#Entrada:\n",
    "titles = [\n",
    "\"Speedrun de Super Mario en tiempo récord\",\n",
    "\"Charla sobre desarrollo de videojuegos\",\n",
    "\"Jugando al nuevo FPS del momento con amigos\",\n",
    "\"Música en vivo: improvisaciones al piano\"\n",
    "]"
   ]
  },
  {
   "cell_type": "code",
   "execution_count": 41,
   "metadata": {},
   "outputs": [
    {
     "name": "stdout",
     "output_type": "stream",
     "text": [
      "['Jugando al nuevo FPS del momento con amigos']\n"
     ]
    }
   ],
   "source": [
    "#Resolución\n",
    "from src import titulo_mas_largo\n",
    "titulo_mas_largo=titulo_mas_largo(titles)\n",
    "print(titulo_mas_largo)\n"
   ]
  },
  {
   "cell_type": "markdown",
   "metadata": {},
   "source": [
    "## 3. Código de conducta\n",
    "\n",
    "NO ENTENDI QUE HAY QUE HACER JAJAJA"
   ]
  },
  {
   "cell_type": "code",
   "execution_count": 42,
   "metadata": {},
   "outputs": [],
   "source": [
    "# Dado un código de conducta para un servidor de Discord:\n",
    "rules = \"\"\"Respeta a los demás. No se permiten insultos ni lenguaje\n",
    "ofensivo.\n",
    "Evita el spam. No publiques enlaces sospechosos o repetitivos.\n",
    "No compartas información personal.\n",
    "Usa los canales adecuados para cada tema.\n",
    "Sigue las instrucciones de los moderadores.\"\"\""
   ]
  },
  {
   "cell_type": "markdown",
   "metadata": {},
   "source": [
    "## 4. Validación de nombre de usuario"
   ]
  },
  {
   "cell_type": "markdown",
   "metadata": {},
   "source": [
    "-  Al menos 5 caracteres.\n",
    "- Contiene al menos un número.\n",
    "- Contiene al menos una letra mayúscula.\n",
    "- Solo puede contener letras y números."
   ]
  },
  {
   "cell_type": "code",
   "execution_count": 43,
   "metadata": {},
   "outputs": [
    {
     "name": "stdout",
     "output_type": "stream",
     "text": [
      "El nombre de usuario no cumple con los requisitos.\n"
     ]
    }
   ],
   "source": [
    "#SOLUCIÓN\n",
    "from src import validacion_usuario\n",
    "\n",
    "usuario = input(\"Ingrese su usuario: \")\n",
    "validacion_usuario(usuario)\n"
   ]
  },
  {
   "cell_type": "markdown",
   "metadata": {},
   "source": [
    "## 5. Clasificación de velocidad de reacción en un juego\n",
    "Dado el tiempo de reacción de un jugador en milisegundos, clasifíquelo en las siguientes\n",
    "categorías:\n",
    "\n",
    "- Menos de 200 ms: Rápido\n",
    "- Entre 200 y 500 ms: Normal\n",
    "- Más de 500 ms: Lento"
   ]
  },
  {
   "cell_type": "code",
   "execution_count": 44,
   "metadata": {},
   "outputs": [
    {
     "name": "stdout",
     "output_type": "stream",
     "text": [
      "categoria: Rápido\n"
     ]
    }
   ],
   "source": [
    "#SOLUCIÓN\n",
    "\n",
    "from src import tiempo_reaccion\n",
    "tiempo=input(\"Ingrese su tiempo de reacción en ms: \")\n",
    "tiempo_reaccion(tiempo)"
   ]
  },
  {
   "cell_type": "markdown",
   "metadata": {},
   "source": [
    "## 6. Análisis de descripciones de una plataforma de stream"
   ]
  },
  {
   "cell_type": "markdown",
   "metadata": {},
   "source": [
    "Dadas varias descripciones de streams en Twitch, cuente cuántas menciones hay de\n",
    "\"entretenimiento\", \"música\" y \"charla\"."
   ]
  },
  {
   "cell_type": "code",
   "execution_count": 45,
   "metadata": {},
   "outputs": [
    {
     "name": "stdout",
     "output_type": "stream",
     "text": [
      "Menciones de 'música': 3\n",
      "Menciones de 'charla': 1\n",
      "Menciones de 'entretenimiento': 1\n"
     ]
    }
   ],
   "source": [
    "#SOLUCIÓN\n",
    "\n",
    "from  src import cuenta_palabras\n",
    "\n",
    "descriptions = [\n",
    "\"Streaming de música en vivo con covers y composiciones\",\n",
    "\"Charla interactiva con la audiencia sobre series y películas\",\n",
    "\"Jugamos a juegos retro y charlamos sobre su historia\",\n",
    "\"Exploramos la mejor música de los 80s y 90s\",\n",
    "\"Programa de entretenimiento con noticias y curiosidades del mundo gamer\",\n",
    "\"Sesión de charla con invitados especiales del mundo del streaming\",\n",
    "\"Música en directo con improvisaciones y peticiones del chat\",\n",
    "\"Un espacio para charlar relajada sobre tecnología y cultura digital\",\n",
    "\"Exploramos el impacto de la música en los videojuegos clásicos\"\n",
    "]\n",
    "\n",
    "cuenta_palabras(descriptions)\n"
   ]
  },
  {
   "cell_type": "markdown",
   "metadata": {},
   "source": [
    "## 7. Generador de códigos de descuento"
   ]
  },
  {
   "cell_type": "markdown",
   "metadata": {},
   "source": [
    "Genere un código de descuento aleatorio para un usuario en base a su nombre, la fecha\n",
    "actual y el resto deben ser números o letras aleatorias. El código debe tener una longitud de\n",
    "30 caracteres, todas las letras deben ser mayúsculas.\n",
    "El usuario debe ingresarse por teclado y debe validar que no exeda los 15 caracteres.\n"
   ]
  },
  {
   "cell_type": "code",
   "execution_count": 46,
   "metadata": {},
   "outputs": [
    {
     "name": "stdout",
     "output_type": "stream",
     "text": [
      "12-stop-RYR2NBMN8BQ0DZ3B03X0OAE\n"
     ]
    }
   ],
   "source": [
    "from src import codigo_descuento\n",
    "\n",
    "usuario=input(\"Ingrese Usuario: \")\n",
    "fecha=input(\"Ingrese fecha: \")\n",
    "codigo_descuento(usuario,fecha)"
   ]
  },
  {
   "cell_type": "code",
   "execution_count": 47,
   "metadata": {},
   "outputs": [
    {
     "name": "stdout",
     "output_type": "stream",
     "text": [
      "Son anagramas\n"
     ]
    }
   ],
   "source": [
    "from src import son_anagramas\n",
    "\n",
    "palabra1=\"amor\"\n",
    "palabra2=\"roma\"\n",
    "\n",
    "son_anagramas(palabra1, palabra2)"
   ]
  },
  {
   "cell_type": "markdown",
   "metadata": {},
   "source": [
    "##9. Limpieza de Datos para un Sistema de Clientes"
   ]
  },
  {
   "cell_type": "code",
   "execution_count": 48,
   "metadata": {},
   "outputs": [],
   "source": [
    "#-Eliminar espacios extra en los nombres.\n",
    "\n",
    "clients = [\n",
    "\" Ana López \", \"Pedro Gómez\", \"maria martínez\", \"Pedro Gómez \", \"\",\n",
    "\" Luis Rodríguez \", None, \"ana lópez\", \"JUAN PÉREZ\", \"MARTA SUÁREZ\",\n",
    "\"luis rodríguez\", \"maría martínez \", \" claudia torres\", \"CLAUDIA TORRES\",\n",
    "\" \", \"pedro gómez\", \"Juan Pérez\", None, \"Ricardo Fernández\", \"LAURA RAMOS\",\n",
    "\"carlos mendes\", \"RICARDO FERNÁNDEZ \", \" Laura ramos\", \"CARLOS MENDES\",\n",
    "\"alejandro gonzález\", \" ALEJANDRO GONZÁLEZ \", \"Patricia Vega\",\n",
    "\"patricia VEGA\", \"Andrés Ocampo\", \" andrés ocampo\", \"Monica Herrera\",\n",
    "\"MONICA HERRERA \", \"gabriela ruíz\", \"Gabriela Ruíz\", \"sandra morales\",\n",
    "\"SANDRA MORALES\", \"miguel ángel\", \"Miguel Ángel \", \" Damián Castillo\",\n",
    "\"Damián Castillo \", None, \"\", \" \"\n",
    "]\n"
   ]
  },
  {
   "cell_type": "code",
   "execution_count": 49,
   "metadata": {},
   "outputs": [
    {
     "name": "stdout",
     "output_type": "stream",
     "text": [
      "['Ana López', 'Pedro Gómez', 'Maria Martínez', 'Luis Rodríguez', 'Juan Pérez', 'Marta Suárez', 'María Martínez', 'Claudia Torres', 'Ricardo Fernández', 'Laura Ramos', 'Carlos Mendes', 'Alejandro González', 'Patricia Vega', 'Andrés Ocampo', 'Monica Herrera', 'Gabriela Ruíz', 'Sandra Morales', 'Miguel Ángel', 'Damián Castillo']\n"
     ]
    }
   ],
   "source": [
    "from src import limpieza_nombres\n",
    "clients=limpieza_nombres(clients)\n",
    "print(clients)"
   ]
  },
  {
   "cell_type": "markdown",
   "metadata": {},
   "source": [
    "## 10. Simulación de partidas y ranking en shooter online\n",
    "\n"
   ]
  },
  {
   "cell_type": "markdown",
   "metadata": {},
   "source": [
    "Simule varias partidas de un juego de disparos y genere un ranking basado en el puntaje total de cada jugador. Se utilizará el siguiente sistema de puntuación:"
   ]
  },
  {
   "cell_type": "code",
   "execution_count": 50,
   "metadata": {},
   "outputs": [],
   "source": [
    "rounds = [\n",
    "{\n",
    "'Shadow': {'kills': 2, 'assists': 1, 'deaths': True},\n",
    "'Blaze': {'kills': 1, 'assists': 0, 'deaths': False},\n",
    "'Viper': {'kills': 1, 'assists': 2, 'deaths': True},\n",
    "'Frost': {'kills': 0, 'assists': 1, 'deaths': False},\n",
    "'Reaper': {'kills': 1, 'assists': 1, 'deaths': False}\n",
    "},\n",
    "{\n",
    "'Shadow': {'kills': 0, 'assists': 2, 'deaths': False},\n",
    "'Blaze': {'kills': 2, 'assists': 0, 'deaths': True},\n",
    "'Viper': {'kills': 1, 'assists': 1, 'deaths': False},\n",
    "'Frost': {'kills': 2, 'assists': 1, 'deaths': True},\n",
    "'Reaper': {'kills': 0, 'assists': 1, 'deaths': False}\n",
    "},\n",
    "{\n",
    "'Shadow': {'kills': 1, 'assists': 0, 'deaths': False},\n",
    "'Blaze': {'kills': 2, 'assists': 2, 'deaths': True},\n",
    "'Viper': {'kills': 1, 'assists': 1, 'deaths': True},\n",
    "'Frost': {'kills': 0, 'assists': 1, 'deaths': False},\n",
    "'Reaper': {'kills': 1, 'assists': 1, 'deaths': False}\n",
    "},\n",
    "{\n",
    "'Shadow': {'kills': 2, 'assists': 1, 'deaths': False},\n",
    "'Blaze': {'kills': 1, 'assists': 0, 'deaths': True},\n",
    "'Viper': {'kills': 0, 'assists': 2, 'deaths': False},\n",
    "'Frost': {'kills': 1, 'assists': 1, 'deaths': True},\n",
    "'Reaper': {'kills': 1, 'assists': 1, 'deaths': False}\n",
    "},\n",
    "{\n",
    "'Shadow': {'kills': 1, 'assists': 2, 'deaths': True},\n",
    "'Blaze': {'kills': 0, 'assists': 1, 'deaths': False},\n",
    "'Viper': {'kills': 2, 'assists': 0, 'deaths': True},\n",
    "'Frost': {'kills': 1, 'assists': 1, 'deaths': False},\n",
    "'Reaper': {'kills': 1, 'assists': 1, 'deaths': True}\n",
    "}\n",
    "]"
   ]
  },
  {
   "cell_type": "code",
   "execution_count": 62,
   "metadata": {},
   "outputs": [
    {
     "name": "stdout",
     "output_type": "stream",
     "text": [
      "Rondas:1\n",
      "Ranking de la ronda\n",
      "Jugador    Kills   Asists  Deaths  MVPs    Puntajes  \n",
      "--------------------------------------------------\n",
      "Shadow     2       1       1       1       6         \n",
      "Blaze      1       0       0       0       3         \n",
      "Viper      1       2       1       0       4         \n",
      "Frost      0       1       0       0       1         \n",
      "Reaper     1       1       0       0       4         \n",
      "\n",
      "\n",
      "Ranking Historico\n",
      "Jugador    Kills   Asists  Deaths  MVPs    Puntajes  \n",
      "--------------------------------------------------\n",
      "Shadow     2       1       1       1       6         \n",
      "Blaze      1       0       0       0       3         \n",
      "Viper      1       2       1       0       4         \n",
      "Frost      0       1       0       0       1         \n",
      "Reaper     1       1       0       0       4         \n",
      "\n",
      "\n",
      "Rondas:2\n",
      "Ranking de la ronda\n",
      "Jugador    Kills   Asists  Deaths  MVPs    Puntajes  \n",
      "--------------------------------------------------\n",
      "Shadow     0       2       0       0       2         \n",
      "Blaze      2       0       1       0       5         \n",
      "Viper      1       1       0       0       4         \n",
      "Frost      2       1       1       1       6         \n",
      "Reaper     0       1       0       0       1         \n",
      "\n",
      "\n",
      "Ranking Historico\n",
      "Jugador    Kills   Asists  Deaths  MVPs    Puntajes  \n",
      "--------------------------------------------------\n",
      "Shadow     2       3       1       1       8         \n",
      "Blaze      3       0       1       0       8         \n",
      "Viper      2       3       1       0       8         \n",
      "Frost      2       2       1       1       7         \n",
      "Reaper     1       2       0       0       5         \n",
      "\n",
      "\n",
      "Rondas:3\n",
      "Ranking de la ronda\n",
      "Jugador    Kills   Asists  Deaths  MVPs    Puntajes  \n",
      "--------------------------------------------------\n",
      "Shadow     1       0       0       0       3         \n",
      "Blaze      2       2       1       1       7         \n",
      "Viper      1       1       1       0       3         \n",
      "Frost      0       1       0       0       1         \n",
      "Reaper     1       1       0       0       4         \n",
      "\n",
      "\n",
      "Ranking Historico\n",
      "Jugador    Kills   Asists  Deaths  MVPs    Puntajes  \n",
      "--------------------------------------------------\n",
      "Shadow     3       3       1       1       11        \n",
      "Blaze      5       2       2       1       15        \n",
      "Viper      3       4       2       0       11        \n",
      "Frost      2       3       1       1       8         \n",
      "Reaper     2       3       0       0       9         \n",
      "\n",
      "\n",
      "Rondas:4\n",
      "Ranking de la ronda\n",
      "Jugador    Kills   Asists  Deaths  MVPs    Puntajes  \n",
      "--------------------------------------------------\n",
      "Shadow     2       1       0       1       7         \n",
      "Blaze      1       0       1       0       2         \n",
      "Viper      0       2       0       0       2         \n",
      "Frost      1       1       1       0       3         \n",
      "Reaper     1       1       0       0       4         \n",
      "\n",
      "\n",
      "Ranking Historico\n",
      "Jugador    Kills   Asists  Deaths  MVPs    Puntajes  \n",
      "--------------------------------------------------\n",
      "Shadow     5       4       1       2       18        \n",
      "Blaze      6       2       3       1       17        \n",
      "Viper      3       6       2       0       13        \n",
      "Frost      3       4       2       1       11        \n",
      "Reaper     3       4       0       0       13        \n",
      "\n",
      "\n",
      "Rondas:5\n",
      "Ranking de la ronda\n",
      "Jugador    Kills   Asists  Deaths  MVPs    Puntajes  \n",
      "--------------------------------------------------\n",
      "Shadow     1       2       1       0       4         \n",
      "Blaze      0       1       0       0       1         \n",
      "Viper      2       0       1       1       5         \n",
      "Frost      1       1       0       0       4         \n",
      "Reaper     1       1       1       0       3         \n",
      "\n",
      "\n",
      "Ranking Historico\n",
      "Jugador    Kills   Asists  Deaths  MVPs    Puntajes  \n",
      "--------------------------------------------------\n",
      "Shadow     6       6       2       2       22        \n",
      "Blaze      6       3       3       1       18        \n",
      "Viper      5       6       3       1       18        \n",
      "Frost      4       5       2       1       15        \n",
      "Reaper     4       5       1       0       16        \n",
      "\n",
      "\n"
     ]
    }
   ],
   "source": [
    "def inicializo(tabla_general,jugador):\n",
    "    if jugador not in tabla_general:\n",
    "        tabla_general[jugador]={'kills': 0, 'assists': 0, 'deaths': 0,'MVPs':0,'Puntajes':0}\n",
    "    return tabla_general\n",
    "\n",
    "\n",
    "def calculo_puntaje(ronda_datos, jugador, puntos):\n",
    "    ronda_datos[jugador]['Puntajes'] = (ronda_datos[jugador]['kills'] * puntos['kills'] +\n",
    "                                        ronda_datos[jugador]['assists'] * puntos['assists'] +\n",
    "                                        int(ronda_datos[jugador]['deaths']) * puntos['deaths'])\n",
    "    return ronda_datos[jugador]\n",
    "\n",
    "\n",
    "def calcula_max_ronda(ronda_datos,jugador,max_ronda,jugador_mvp):\n",
    "    if ronda_datos[jugador]['Puntajes']>max_ronda:\n",
    "       max_ronda=ronda_datos[jugador]['Puntajes']\n",
    "       jugador_mvp=jugador\n",
    "    return jugador_mvp,max_ronda\n",
    "\n",
    "def acumulo_ronda(tabla_general, jugador, rdo_jugador_ronda):\n",
    "    tabla_general[jugador]['kills'] += rdo_jugador_ronda[jugador]['kills']\n",
    "    tabla_general[jugador]['assists'] += rdo_jugador_ronda[jugador]['assists']\n",
    "    tabla_general[jugador]['deaths'] += int(rdo_jugador_ronda[jugador]['deaths'])\n",
    "    tabla_general[jugador]['Puntajes'] += rdo_jugador_ronda[jugador]['Puntajes']\n",
    "    return tabla_general\n",
    "\n",
    "#PROCESO RONDA\n",
    "def procesar_ronda(ronda_datos, tabla_general,puntos):\n",
    "    max_ronda=0\n",
    "    jugador_mvp=\"\"\n",
    "    for jugador in  ronda_datos:\n",
    "\n",
    "        #Inicializo la tabla general si el jugador es nuevo\n",
    "        inicializo(tabla_general,jugador)\n",
    "\n",
    "        #Calculo puntaje \n",
    "        calculo_puntaje(ronda_datos,jugador,puntos)\n",
    "\n",
    "        #Guarda si es el max puntaje ronda       \n",
    "        jugador_mvp,max_ronda=calcula_max_ronda(ronda_datos,jugador,max_ronda,jugador_mvp)\n",
    "        \n",
    "\n",
    "        #Acumulo resultados de ronda a la tabla géneral\n",
    "        acumulo_ronda(tabla_general,jugador,ronda_datos)\n",
    "        \n",
    "        #inicializo mvp de la ronda\n",
    "        ronda_datos[jugador]['MVPs'] = 0\n",
    "             \n",
    "       \n",
    "    if jugador_mvp:\n",
    "        ronda_datos[jugador_mvp]['MVPs'] = 1 \n",
    "        tabla_general[jugador_mvp]['MVPs'] += 1\n",
    "    \n",
    "    \n",
    "    return tabla_general\n",
    "\n",
    "def imprimir_tabla(tabla_general):\n",
    "    print(\"{:<10} {:<7} {:<7} {:<7} {:<7} {:<10}\".format(\"Jugador\", \"Kills\", \"Asists\", \"Deaths\", \"MVPs\", \"Puntajes\"))\n",
    "    print(\"-\" * 50)\n",
    "    \n",
    "    for jugador, stats in tabla_general.items():\n",
    "        print(\"{:<10} {:<7} {:<7} {:<7} {:<7} {:<10}\".format(\n",
    "            jugador,\n",
    "            stats['kills'],\n",
    "            stats['assists'],\n",
    "            stats['deaths'],\n",
    "            stats['MVPs'],\n",
    "            stats['Puntajes']\n",
    "        ))\n",
    "    print(\"\\n\")\n",
    "    \n",
    "\n",
    "\n",
    "rounds = [\n",
    "{\n",
    "'Shadow': {'kills': 2, 'assists': 1, 'deaths': True},\n",
    "'Blaze': {'kills': 1, 'assists': 0, 'deaths': False},\n",
    "'Viper': {'kills': 1, 'assists': 2, 'deaths': True},\n",
    "'Frost': {'kills': 0, 'assists': 1, 'deaths': False},\n",
    "'Reaper': {'kills': 1, 'assists': 1, 'deaths': False}\n",
    "},\n",
    "{\n",
    "'Shadow': {'kills': 0, 'assists': 2, 'deaths': False},\n",
    "'Blaze': {'kills': 2, 'assists': 0, 'deaths': True},\n",
    "'Viper': {'kills': 1, 'assists': 1, 'deaths': False},\n",
    "'Frost': {'kills': 2, 'assists': 1, 'deaths': True},\n",
    "'Reaper': {'kills': 0, 'assists': 1, 'deaths': False}\n",
    "},\n",
    "{\n",
    "'Shadow': {'kills': 1, 'assists': 0, 'deaths': False},\n",
    "'Blaze': {'kills': 2, 'assists': 2, 'deaths': True},\n",
    "'Viper': {'kills': 1, 'assists': 1, 'deaths': True},\n",
    "'Frost': {'kills': 0, 'assists': 1, 'deaths': False},\n",
    "'Reaper': {'kills': 1, 'assists': 1, 'deaths': False}\n",
    "},\n",
    "{\n",
    "'Shadow': {'kills': 2, 'assists': 1, 'deaths': False},\n",
    "'Blaze': {'kills': 1, 'assists': 0, 'deaths': True},\n",
    "'Viper': {'kills': 0, 'assists': 2, 'deaths': False},\n",
    "'Frost': {'kills': 1, 'assists': 1, 'deaths': True},\n",
    "'Reaper': {'kills': 1, 'assists': 1, 'deaths': False}\n",
    "},\n",
    "{\n",
    "'Shadow': {'kills': 1, 'assists': 2, 'deaths': True},\n",
    "'Blaze': {'kills': 0, 'assists': 1, 'deaths': False},\n",
    "'Viper': {'kills': 2, 'assists': 0, 'deaths': True},\n",
    "'Frost': {'kills': 1, 'assists': 1, 'deaths': False},\n",
    "'Reaper': {'kills': 1, 'assists': 1, 'deaths': True}\n",
    "}\n",
    "]\n",
    "\n",
    "\n",
    "    # Inicializar tabla de estadísticas\n",
    "tabla_general = {}  \n",
    "puntos = {\"kills\": 3, \"assists\": 1, \"deaths\": -1}\n",
    "\n",
    "    # Recorrer cada ronda y procesarla\n",
    "for ronda_num, ronda_datos in enumerate(rounds):\n",
    "    print(f\"Rondas:{ronda_num+1}\")\n",
    "    \n",
    "    tabla_general=procesar_ronda(ronda_datos, tabla_general,puntos)\n",
    "   \n",
    "    print('Ranking de la ronda')\n",
    "    imprimir_tabla(ronda_datos)\n",
    "    print('Ranking Historico')\n",
    "    imprimir_tabla(tabla_general)\n",
    "        "
   ]
  }
 ],
 "metadata": {
  "kernelspec": {
   "display_name": "venv",
   "language": "python",
   "name": "python3"
  },
  "language_info": {
   "codemirror_mode": {
    "name": "ipython",
    "version": 3
   },
   "file_extension": ".py",
   "mimetype": "text/x-python",
   "name": "python",
   "nbconvert_exporter": "python",
   "pygments_lexer": "ipython3",
   "version": "3.12.9"
  }
 },
 "nbformat": 4,
 "nbformat_minor": 2
}
