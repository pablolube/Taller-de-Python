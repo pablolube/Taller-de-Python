{
 "cells": [
  {
   "cell_type": "code",
   "execution_count": 12,
   "metadata": {},
   "outputs": [],
   "source": [
    "#   Librerias \n"
   ]
  },
  {
   "cell_type": "markdown",
   "metadata": {},
   "source": [
    "# Python 2025 - Actividad 2"
   ]
  },
  {
   "cell_type": "markdown",
   "metadata": {},
   "source": [
    "## Objetivos"
   ]
  },
  {
   "cell_type": "markdown",
   "metadata": {},
   "source": [
    "- Resolver problemas más complejos utilizando estructuras de datos adecuadas.  \n",
    "- Aplicar correctamente el uso de Jupyter Notebook.  \n",
    "- Desarrollar soluciones considerando dependencias y buenas prácticas.  "
   ]
  },
  {
   "cell_type": "markdown",
   "metadata": {},
   "source": [
    "## 1. Análisis del Zen de Python"
   ]
  },
  {
   "cell_type": "markdown",
   "metadata": {},
   "source": [
    "Copie el texto del Zen de Python en una variable e imprima todas las líneas cuya segunda\n",
    "palabra comience con una vocal (A, E, I, O, U, a, e, i, o, u).\n",
    "El Zen de Python es una colección de principios que guían la filosofía de diseño de Python,\n",
    "escrita en forma de aforismos. Resalta la simplicidad, legibilidad y claridad en el código.\n",
    "Para verlo en Python, ejecute en la consola import this\n",
    "Para este punto debe colocar el contenido del Zen de python en una variable string:"
   ]
  },
  {
   "cell_type": "code",
   "execution_count": 13,
   "metadata": {},
   "outputs": [],
   "source": [
    "import this"
   ]
  },
  {
   "cell_type": "markdown",
   "metadata": {},
   "source": [
    "Entrada"
   ]
  },
  {
   "cell_type": "code",
   "execution_count": 14,
   "metadata": {},
   "outputs": [],
   "source": [
    "zen_text=\"\"\"The Zen of Python, by Tim Peters\n",
    "\n",
    "Beautiful is better than ugly.\n",
    "Explicit is better than implicit.\n",
    "Simple is better than complex.\n",
    "Complex is better than complicated.\n",
    "Flat is better than nested.\n",
    "Sparse is better than dense.\n",
    "Readability counts.\n",
    "Special cases aren't special enough to break the rules.\n",
    "Although practicality beats purity.\n",
    "Errors should never pass silently.\n",
    "Unless explicitly silenced.\n",
    "In the face of ambiguity, refuse the temptation to guess.\n",
    "There should be one-- and preferably only one --obvious way to do it.\n",
    "Although that way may not be obvious at first unless you're Dutch.\n",
    "Now is better than never.\n",
    "Although never is often better than *right* now.\n",
    "If the implementation is hard to explain, it's a bad idea.\n",
    "If the implementation is easy to explain, it may be a good idea.\n",
    "Namespaces are one honking great idea -- let's do more of those!\"\"\""
   ]
  },
  {
   "cell_type": "code",
   "execution_count": 1,
   "metadata": {},
   "outputs": [
    {
     "ename": "ModuleNotFoundError",
     "evalue": "No module named 'src'",
     "output_type": "error",
     "traceback": [
      "\u001b[31m---------------------------------------------------------------------------\u001b[39m",
      "\u001b[31mModuleNotFoundError\u001b[39m                       Traceback (most recent call last)",
      "\u001b[36mCell\u001b[39m\u001b[36m \u001b[39m\u001b[32mIn[1]\u001b[39m\u001b[32m, line 2\u001b[39m\n\u001b[32m      1\u001b[39m \u001b[38;5;66;03m#SOLUCIÓN\u001b[39;00m\n\u001b[32m----> \u001b[39m\u001b[32m2\u001b[39m \u001b[38;5;28;01mfrom\u001b[39;00m\u001b[38;5;250m \u001b[39m\u001b[34;01msrc\u001b[39;00m\u001b[38;5;250m \u001b[39m\u001b[38;5;28;01mimport\u001b[39;00m filtrar_2dapalabra_vocal\n\u001b[32m      3\u001b[39m filtrar_2dapalabra_vocal(zen_text)\n",
      "\u001b[31mModuleNotFoundError\u001b[39m: No module named 'src'"
     ]
    }
   ],
   "source": [
    "#SOLUCIÓN\n",
    "from src import filtrar_2dapalabra_vocal\n",
    "filtrar_2dapalabra_vocal(zen_text)"
   ]
  },
  {
   "cell_type": "markdown",
   "metadata": {},
   "source": [
    "## 2. Título más largo\n",
    "Dado un listado de títulos de streams en Twitch:"
   ]
  },
  {
   "cell_type": "markdown",
   "metadata": {},
   "source": [
    "Encuentre el título con más palabras y muéstrelo en pantalla."
   ]
  },
  {
   "cell_type": "code",
   "execution_count": null,
   "metadata": {},
   "outputs": [],
   "source": [
    "#Entrada:\n",
    "titles = [\n",
    "\"Speedrun de Super Mario en tiempo récord\",\n",
    "\"Charla sobre desarrollo de videojuegos\",\n",
    "\"Jugando al nuevo FPS del momento con amigos\",\n",
    "\"Música en vivo: improvisaciones al piano\"\n",
    "]"
   ]
  },
  {
   "cell_type": "code",
   "execution_count": null,
   "metadata": {},
   "outputs": [],
   "source": [
    "#Resolución\n",
    "from src import titulo_mas_largo\n",
    "titulo_mas_largo=titulo_mas_largo(titles)\n",
    "print(titulo_mas_largo)\n"
   ]
  },
  {
   "cell_type": "markdown",
   "metadata": {},
   "source": [
    "## 3. Código de conducta\n",
    "\n",
    "NO ENTENDI QUE HAY QUE HACER JAJAJA"
   ]
  },
  {
   "cell_type": "code",
   "execution_count": 35,
   "metadata": {},
   "outputs": [
    {
     "name": "stdout",
     "output_type": "stream",
     "text": [
      "['Jugando al nuevo FPS del momento con amigos', 'Jugakdo al nuevo FPS del momento con amigos']\n"
     ]
    }
   ],
   "source": [
    "# Dado un código de conducta para un servidor de Discord:\n",
    "rules = \"\"\"Respeta a los demás. No se permiten insultos ni lenguaje\n",
    "ofensivo.\n",
    "Evita el spam. No publiques enlaces sospechosos o repetitivos.\n",
    "No compartas información personal.\n",
    "Usa los canales adecuados para cada tema.\n",
    "Sigue las instrucciones de los moderadores.\"\"\""
   ]
  },
  {
   "cell_type": "markdown",
   "metadata": {},
   "source": [
    "## 4. Validación de nombre de usuario"
   ]
  },
  {
   "cell_type": "markdown",
   "metadata": {},
   "source": [
    "-  Al menos 5 caracteres.\n",
    "- Contiene al menos un número.\n",
    "- Contiene al menos una letra mayúscula.\n",
    "- Solo puede contener letras y números."
   ]
  },
  {
   "cell_type": "code",
   "execution_count": 9,
   "metadata": {},
   "outputs": [
    {
     "ename": "ModuleNotFoundError",
     "evalue": "No module named 'src'",
     "output_type": "error",
     "traceback": [
      "\u001b[1;31m---------------------------------------------------------------------------\u001b[0m",
      "\u001b[1;31mModuleNotFoundError\u001b[0m                       Traceback (most recent call last)",
      "Cell \u001b[1;32mIn[9], line 1\u001b[0m\n\u001b[1;32m----> 1\u001b[0m \u001b[38;5;28;01mfrom\u001b[39;00m\u001b[38;5;250m \u001b[39m\u001b[38;5;21;01msrc\u001b[39;00m\u001b[38;5;250m \u001b[39m\u001b[38;5;28;01mimport\u001b[39;00m validacion_usuario\n\u001b[0;32m      3\u001b[0m usuario \u001b[38;5;241m=\u001b[39m \u001b[38;5;28minput\u001b[39m(\u001b[38;5;124m\"\u001b[39m\u001b[38;5;124mIngrese su usuario: \u001b[39m\u001b[38;5;124m\"\u001b[39m)\n\u001b[0;32m      4\u001b[0m validacion_usuario(usuario)\n",
      "\u001b[1;31mModuleNotFoundError\u001b[0m: No module named 'src'"
     ]
    }
   ],
   "source": [
    "#SOLUCIÓN\n",
    "from src import validacion_usuario\n",
    "\n",
    "usuario = input(\"Ingrese su usuario: \")\n",
    "validacion_usuario(usuario)\n"
   ]
  },
  {
   "cell_type": "markdown",
   "metadata": {},
   "source": [
    "## 5. Clasificación de velocidad de reacción en un juego\n",
    "Dado el tiempo de reacción de un jugador en milisegundos, clasifíquelo en las siguientes\n",
    "categorías:\n",
    "\n",
    "- Menos de 200 ms: Rápido\n",
    "- Entre 200 y 500 ms: Normal\n",
    "- Más de 500 ms: Lento"
   ]
  },
  {
   "cell_type": "code",
   "execution_count": 3,
   "metadata": {},
   "outputs": [
    {
     "ename": "ModuleNotFoundError",
     "evalue": "No module named 'src'",
     "output_type": "error",
     "traceback": [
      "\u001b[1;31m---------------------------------------------------------------------------\u001b[0m",
      "\u001b[1;31mModuleNotFoundError\u001b[0m                       Traceback (most recent call last)",
      "Cell \u001b[1;32mIn[3], line 1\u001b[0m\n\u001b[1;32m----> 1\u001b[0m \u001b[38;5;28;01mfrom\u001b[39;00m\u001b[38;5;250m \u001b[39m\u001b[38;5;21;01msrc\u001b[39;00m\u001b[38;5;250m \u001b[39m\u001b[38;5;28;01mimport\u001b[39;00m tiempo_reaccion\n\u001b[0;32m      2\u001b[0m tiempo\u001b[38;5;241m=\u001b[39m\u001b[38;5;28minput\u001b[39m(\u001b[38;5;124m\"\u001b[39m\u001b[38;5;124mIngrese su tiempo de reacción en ms: \u001b[39m\u001b[38;5;124m\"\u001b[39m)\n\u001b[0;32m      3\u001b[0m tiempo_reaccion(tiempo)\n",
      "\u001b[1;31mModuleNotFoundError\u001b[0m: No module named 'src'"
     ]
    }
   ],
   "source": [
    "#SOLUCIÓN\n",
    "\n",
    "from src import tiempo_reaccion\n",
    "tiempo=input(\"Ingrese su tiempo de reacción en ms: \")\n",
    "tiempo_reaccion(tiempo)"
   ]
  },
  {
   "cell_type": "markdown",
   "metadata": {},
   "source": [
    "## 6. Análisis de descripciones de una plataforma de stream"
   ]
  },
  {
   "cell_type": "markdown",
   "metadata": {},
   "source": [
    "Dadas varias descripciones de streams en Twitch, cuente cuántas menciones hay de\n",
    "\"entretenimiento\", \"música\" y \"charla\"."
   ]
  },
  {
   "cell_type": "code",
   "execution_count": 27,
   "metadata": {},
   "outputs": [
    {
     "name": "stdout",
     "output_type": "stream",
     "text": [
      "Menciones de 'música': 4\n",
      "Menciones de 'charla': 2\n",
      "Menciones de 'entretenimiento': 1\n"
     ]
    }
   ],
   "source": [
    "#SOLUCIÓN\n",
    "\n",
    "from  src import cuenta_palabras\n",
    "\n",
    "descriptions = [\n",
    "\"Streaming de música en vivo con covers y composiciones\",\n",
    "\"Charla interactiva con la audiencia sobre series y películas\",\n",
    "\"Jugamos a juegos retro y charlamos sobre su historia\",\n",
    "\"Exploramos la mejor música de los 80s y 90s\",\n",
    "\"Programa de entretenimiento con noticias y curiosidades del mundo gamer\",\n",
    "\"Sesión de charla con invitados especiales del mundo del streaming\",\n",
    "\"Música en directo con improvisaciones y peticiones del chat\",\n",
    "\"Un espacio para charlar relajada sobre tecnología y cultura digital\",\n",
    "\"Exploramos el impacto de la música en los videojuegos clásicos\"\n",
    "]\n",
    "\n",
    "cuenta_palabras(descriptions)\n"
   ]
  },
  {
   "cell_type": "markdown",
   "metadata": {},
   "source": [
    "## 7. Generador de códigos de descuento"
   ]
  },
  {
   "cell_type": "markdown",
   "metadata": {},
   "source": [
    "Genere un código de descuento aleatorio para un usuario en base a su nombre, la fecha\n",
    "actual y el resto deben ser números o letras aleatorias. El código debe tener una longitud de\n",
    "30 caracteres, todas las letras deben ser mayúsculas.\n",
    "El usuario debe ingresarse por teclado y debe validar que no exeda los 15 caracteres.\n"
   ]
  },
  {
   "cell_type": "code",
   "execution_count": 33,
   "metadata": {},
   "outputs": [
    {
     "name": "stdout",
     "output_type": "stream",
     "text": [
      "DASDASOKODAS-12121990-7T73R6D26\n"
     ]
    }
   ],
   "source": [
    "from src import codigo_descuento\n",
    "\n",
    "usuario=input(\"Ingrese Usuario: \")\n",
    "fecha=input(\"Ingrese fecha: \")\n",
    "codigo_descuento(usuario,fecha)"
   ]
  },
  {
   "cell_type": "code",
   "execution_count": 46,
   "metadata": {},
   "outputs": [
    {
     "ename": "ModuleNotFoundError",
     "evalue": "No module named 'src'",
     "output_type": "error",
     "traceback": [
      "\u001b[1;31m---------------------------------------------------------------------------\u001b[0m",
      "\u001b[1;31mModuleNotFoundError\u001b[0m                       Traceback (most recent call last)",
      "Cell \u001b[1;32mIn[46], line 1\u001b[0m\n\u001b[1;32m----> 1\u001b[0m \u001b[38;5;28;01mfrom\u001b[39;00m\u001b[38;5;250m \u001b[39m\u001b[38;5;21;01msrc\u001b[39;00m\u001b[38;5;250m \u001b[39m\u001b[38;5;28;01mimport\u001b[39;00m son_anagramas\n\u001b[0;32m      3\u001b[0m palabra1\u001b[38;5;241m=\u001b[39m\u001b[38;5;124m\"\u001b[39m\u001b[38;5;124mamor\u001b[39m\u001b[38;5;124m\"\u001b[39m\n\u001b[0;32m      4\u001b[0m palabra2\u001b[38;5;241m=\u001b[39m\u001b[38;5;124m\"\u001b[39m\u001b[38;5;124mroma\u001b[39m\u001b[38;5;124m\"\u001b[39m\n",
      "\u001b[1;31mModuleNotFoundError\u001b[0m: No module named 'src'"
     ]
    }
   ],
   "source": [
    "from src import son_anagramas\n",
    "\n",
    "palabra1=\"amor\"\n",
    "palabra2=\"roma\"\n",
    "\n",
    "son_anagramas(palabra1, palabra2)"
   ]
  },
  {
   "cell_type": "markdown",
   "metadata": {},
   "source": [
    "##9. Limpieza de Datos para un Sistema de Clientes"
   ]
  },
  {
   "cell_type": "code",
   "execution_count": 74,
   "metadata": {},
   "outputs": [],
   "source": [
    "#-Eliminar espacios extra en los nombres.\n",
    "\n",
    "clients = [\n",
    "\" Ana López \", \"Pedro Gómez\", \"maria martínez\", \"Pedro Gómez \", \"\",\n",
    "\" Luis Rodríguez \", None, \"ana lópez\", \"JUAN PÉREZ\", \"MARTA SUÁREZ\",\n",
    "\"luis rodríguez\", \"maría martínez \", \" claudia torres\", \"CLAUDIA TORRES\",\n",
    "\" \", \"pedro gómez\", \"Juan Pérez\", None, \"Ricardo Fernández\", \"LAURA RAMOS\",\n",
    "\"carlos mendes\", \"RICARDO FERNÁNDEZ \", \" Laura ramos\", \"CARLOS MENDES\",\n",
    "\"alejandro gonzález\", \" ALEJANDRO GONZÁLEZ \", \"Patricia Vega\",\n",
    "\"patricia VEGA\", \"Andrés Ocampo\", \" andrés ocampo\", \"Monica Herrera\",\n",
    "\"MONICA HERRERA \", \"gabriela ruíz\", \"Gabriela Ruíz\", \"sandra morales\",\n",
    "\"SANDRA MORALES\", \"miguel ángel\", \"Miguel Ángel \", \" Damián Castillo\",\n",
    "\"Damián Castillo \", None, \"\", \" \"\n",
    "]\n"
   ]
  },
  {
   "cell_type": "code",
   "execution_count": null,
   "metadata": {},
   "outputs": [
    {
     "name": "stdout",
     "output_type": "stream",
     "text": [
      "['Ana López', 'Pedro Gómez', 'Maria Martínez', 'Luis Rodríguez', 'Juan Pérez', 'Marta Suárez', 'María Martínez', 'Claudia Torres', 'Ricardo Fernández', 'Laura Ramos', 'Carlos Mendes', 'Alejandro González', 'Patricia Vega', 'Andrés Ocampo', 'Monica Herrera', 'Gabriela Ruíz', 'Sandra Morales', 'Miguel   Ángel', 'Miguel Ángel', 'Damián Castillo']\n"
     ]
    }
   ],
   "source": [
    "from src import limpieza_nombres\n",
    "clients=limpieza_nombres(clients)\n",
    "print(clients)"
   ]
  },
  {
   "cell_type": "markdown",
   "metadata": {},
   "source": [
    "## 10. Simulación de partidas y ranking en shooter online\n",
    "\n"
   ]
  },
  {
   "cell_type": "markdown",
   "metadata": {},
   "source": [
    "Simule varias partidas de un juego de disparos y genere un ranking basado en el puntaje total de cada jugador. Se utilizará el siguiente sistema de puntuación:"
   ]
  },
  {
   "cell_type": "code",
   "execution_count": 78,
   "metadata": {},
   "outputs": [],
   "source": [
    "rounds = [\n",
    "{\n",
    "'Shadow': {'kills': 2, 'assists': 1, 'deaths': True},\n",
    "'Blaze': {'kills': 1, 'assists': 0, 'deaths': False},\n",
    "'Viper': {'kills': 1, 'assists': 2, 'deaths': True},\n",
    "'Frost': {'kills': 0, 'assists': 1, 'deaths': False},\n",
    "'Reaper': {'kills': 1, 'assists': 1, 'deaths': False}\n",
    "},\n",
    "{\n",
    "'Shadow': {'kills': 0, 'assists': 2, 'deaths': False},\n",
    "'Blaze': {'kills': 2, 'assists': 0, 'deaths': True},\n",
    "'Viper': {'kills': 1, 'assists': 1, 'deaths': False},\n",
    "'Frost': {'kills': 2, 'assists': 1, 'deaths': True},\n",
    "'Reaper': {'kills': 0, 'assists': 1, 'deaths': False}\n",
    "},\n",
    "{\n",
    "'Shadow': {'kills': 1, 'assists': 0, 'deaths': False},\n",
    "'Blaze': {'kills': 2, 'assists': 2, 'deaths': True},\n",
    "'Viper': {'kills': 1, 'assists': 1, 'deaths': True},\n",
    "'Frost': {'kills': 0, 'assists': 1, 'deaths': False},\n",
    "'Reaper': {'kills': 1, 'assists': 1, 'deaths': False}\n",
    "},\n",
    "{\n",
    "'Shadow': {'kills': 2, 'assists': 1, 'deaths': False},\n",
    "'Blaze': {'kills': 1, 'assists': 0, 'deaths': True},\n",
    "'Viper': {'kills': 0, 'assists': 2, 'deaths': False},\n",
    "'Frost': {'kills': 1, 'assists': 1, 'deaths': True},\n",
    "'Reaper': {'kills': 1, 'assists': 1, 'deaths': False}\n",
    "},\n",
    "{\n",
    "'Shadow': {'kills': 1, 'assists': 2, 'deaths': True},\n",
    "'Blaze': {'kills': 0, 'assists': 1, 'deaths': False},\n",
    "'Viper': {'kills': 2, 'assists': 0, 'deaths': True},\n",
    "'Frost': {'kills': 1, 'assists': 1, 'deaths': False},\n",
    "'Reaper': {'kills': 1, 'assists': 1, 'deaths': True}\n",
    "}\n",
    "]"
   ]
  },
  {
   "cell_type": "markdown",
   "metadata": {},
   "source": [
    "Imprima las tablas de resultados luego de la inserción de cada una de las rondas pudiendo\n",
    "ver el progreso en el equipo.\n",
    "\n",
    "Además cada ronda debe tener un MVP (Mejor Jugador del Partido/ronda) basado en su\n",
    "puntuación. La cantidad de veces que el jugador ha sido MVP también se debe contabilizar\n",
    "Se debe imprimir el total de kills, asistencias, muertes, cantidad de MVP y puntos totales. La\n",
    "tabla tienen que estar en orden decreciente por los puntos totales.\n"
   ]
  },
  {
   "cell_type": "code",
   "execution_count": null,
   "metadata": {},
   "outputs": [
    {
     "name": "stdout",
     "output_type": "stream",
     "text": [
      "Ronda {'Shadow': {'kills': 2, 'assists': 1, 'deaths': True}, 'Blaze': {'kills': 1, 'assists': 0, 'deaths': False}, 'Viper': {'kills': 1, 'assists': 2, 'deaths': True}, 'Frost': {'kills': 0, 'assists': 1, 'deaths': False}, 'Reaper': {'kills': 1, 'assists': 1, 'deaths': False}}\n",
      "{'kills': 2, 'assists': 1, 'deaths': True}\n",
      "Ronda {'Shadow': {'kills': 2, 'assists': 1, 'deaths': True}, 'Blaze': {'kills': 1, 'assists': 0, 'deaths': False}, 'Viper': {'kills': 1, 'assists': 2, 'deaths': True}, 'Frost': {'kills': 0, 'assists': 1, 'deaths': False}, 'Reaper': {'kills': 1, 'assists': 1, 'deaths': False}}\n",
      "{'kills': 1, 'assists': 0, 'deaths': False}\n",
      "Ronda {'Shadow': {'kills': 2, 'assists': 1, 'deaths': True}, 'Blaze': {'kills': 1, 'assists': 0, 'deaths': False}, 'Viper': {'kills': 1, 'assists': 2, 'deaths': True}, 'Frost': {'kills': 0, 'assists': 1, 'deaths': False}, 'Reaper': {'kills': 1, 'assists': 1, 'deaths': False}}\n",
      "{'kills': 1, 'assists': 2, 'deaths': True}\n",
      "Ronda {'Shadow': {'kills': 2, 'assists': 1, 'deaths': True}, 'Blaze': {'kills': 1, 'assists': 0, 'deaths': False}, 'Viper': {'kills': 1, 'assists': 2, 'deaths': True}, 'Frost': {'kills': 0, 'assists': 1, 'deaths': False}, 'Reaper': {'kills': 1, 'assists': 1, 'deaths': False}}\n",
      "{'kills': 0, 'assists': 1, 'deaths': False}\n",
      "Ronda {'Shadow': {'kills': 2, 'assists': 1, 'deaths': True}, 'Blaze': {'kills': 1, 'assists': 0, 'deaths': False}, 'Viper': {'kills': 1, 'assists': 2, 'deaths': True}, 'Frost': {'kills': 0, 'assists': 1, 'deaths': False}, 'Reaper': {'kills': 1, 'assists': 1, 'deaths': False}}\n",
      "{'kills': 1, 'assists': 1, 'deaths': False}\n",
      "Ronda {'Shadow': {'kills': 0, 'assists': 2, 'deaths': False}, 'Blaze': {'kills': 2, 'assists': 0, 'deaths': True}, 'Viper': {'kills': 1, 'assists': 1, 'deaths': False}, 'Frost': {'kills': 2, 'assists': 1, 'deaths': True}, 'Reaper': {'kills': 0, 'assists': 1, 'deaths': False}}\n",
      "{'kills': 0, 'assists': 2, 'deaths': False}\n",
      "Ronda {'Shadow': {'kills': 0, 'assists': 2, 'deaths': False}, 'Blaze': {'kills': 2, 'assists': 0, 'deaths': True}, 'Viper': {'kills': 1, 'assists': 1, 'deaths': False}, 'Frost': {'kills': 2, 'assists': 1, 'deaths': True}, 'Reaper': {'kills': 0, 'assists': 1, 'deaths': False}}\n",
      "{'kills': 2, 'assists': 0, 'deaths': True}\n",
      "Ronda {'Shadow': {'kills': 0, 'assists': 2, 'deaths': False}, 'Blaze': {'kills': 2, 'assists': 0, 'deaths': True}, 'Viper': {'kills': 1, 'assists': 1, 'deaths': False}, 'Frost': {'kills': 2, 'assists': 1, 'deaths': True}, 'Reaper': {'kills': 0, 'assists': 1, 'deaths': False}}\n",
      "{'kills': 1, 'assists': 1, 'deaths': False}\n",
      "Ronda {'Shadow': {'kills': 0, 'assists': 2, 'deaths': False}, 'Blaze': {'kills': 2, 'assists': 0, 'deaths': True}, 'Viper': {'kills': 1, 'assists': 1, 'deaths': False}, 'Frost': {'kills': 2, 'assists': 1, 'deaths': True}, 'Reaper': {'kills': 0, 'assists': 1, 'deaths': False}}\n",
      "{'kills': 2, 'assists': 1, 'deaths': True}\n",
      "Ronda {'Shadow': {'kills': 0, 'assists': 2, 'deaths': False}, 'Blaze': {'kills': 2, 'assists': 0, 'deaths': True}, 'Viper': {'kills': 1, 'assists': 1, 'deaths': False}, 'Frost': {'kills': 2, 'assists': 1, 'deaths': True}, 'Reaper': {'kills': 0, 'assists': 1, 'deaths': False}}\n",
      "{'kills': 0, 'assists': 1, 'deaths': False}\n",
      "Ronda {'Shadow': {'kills': 1, 'assists': 0, 'deaths': False}, 'Blaze': {'kills': 2, 'assists': 2, 'deaths': True}, 'Viper': {'kills': 1, 'assists': 1, 'deaths': True}, 'Frost': {'kills': 0, 'assists': 1, 'deaths': False}, 'Reaper': {'kills': 1, 'assists': 1, 'deaths': False}}\n",
      "{'kills': 1, 'assists': 0, 'deaths': False}\n",
      "Ronda {'Shadow': {'kills': 1, 'assists': 0, 'deaths': False}, 'Blaze': {'kills': 2, 'assists': 2, 'deaths': True}, 'Viper': {'kills': 1, 'assists': 1, 'deaths': True}, 'Frost': {'kills': 0, 'assists': 1, 'deaths': False}, 'Reaper': {'kills': 1, 'assists': 1, 'deaths': False}}\n",
      "{'kills': 2, 'assists': 2, 'deaths': True}\n",
      "Ronda {'Shadow': {'kills': 1, 'assists': 0, 'deaths': False}, 'Blaze': {'kills': 2, 'assists': 2, 'deaths': True}, 'Viper': {'kills': 1, 'assists': 1, 'deaths': True}, 'Frost': {'kills': 0, 'assists': 1, 'deaths': False}, 'Reaper': {'kills': 1, 'assists': 1, 'deaths': False}}\n",
      "{'kills': 1, 'assists': 1, 'deaths': True}\n",
      "Ronda {'Shadow': {'kills': 1, 'assists': 0, 'deaths': False}, 'Blaze': {'kills': 2, 'assists': 2, 'deaths': True}, 'Viper': {'kills': 1, 'assists': 1, 'deaths': True}, 'Frost': {'kills': 0, 'assists': 1, 'deaths': False}, 'Reaper': {'kills': 1, 'assists': 1, 'deaths': False}}\n",
      "{'kills': 0, 'assists': 1, 'deaths': False}\n",
      "Ronda {'Shadow': {'kills': 1, 'assists': 0, 'deaths': False}, 'Blaze': {'kills': 2, 'assists': 2, 'deaths': True}, 'Viper': {'kills': 1, 'assists': 1, 'deaths': True}, 'Frost': {'kills': 0, 'assists': 1, 'deaths': False}, 'Reaper': {'kills': 1, 'assists': 1, 'deaths': False}}\n",
      "{'kills': 1, 'assists': 1, 'deaths': False}\n",
      "Ronda {'Shadow': {'kills': 2, 'assists': 1, 'deaths': False}, 'Blaze': {'kills': 1, 'assists': 0, 'deaths': True}, 'Viper': {'kills': 0, 'assists': 2, 'deaths': False}, 'Frost': {'kills': 1, 'assists': 1, 'deaths': True}, 'Reaper': {'kills': 1, 'assists': 1, 'deaths': False}}\n",
      "{'kills': 2, 'assists': 1, 'deaths': False}\n",
      "Ronda {'Shadow': {'kills': 2, 'assists': 1, 'deaths': False}, 'Blaze': {'kills': 1, 'assists': 0, 'deaths': True}, 'Viper': {'kills': 0, 'assists': 2, 'deaths': False}, 'Frost': {'kills': 1, 'assists': 1, 'deaths': True}, 'Reaper': {'kills': 1, 'assists': 1, 'deaths': False}}\n",
      "{'kills': 1, 'assists': 0, 'deaths': True}\n",
      "Ronda {'Shadow': {'kills': 2, 'assists': 1, 'deaths': False}, 'Blaze': {'kills': 1, 'assists': 0, 'deaths': True}, 'Viper': {'kills': 0, 'assists': 2, 'deaths': False}, 'Frost': {'kills': 1, 'assists': 1, 'deaths': True}, 'Reaper': {'kills': 1, 'assists': 1, 'deaths': False}}\n",
      "{'kills': 0, 'assists': 2, 'deaths': False}\n",
      "Ronda {'Shadow': {'kills': 2, 'assists': 1, 'deaths': False}, 'Blaze': {'kills': 1, 'assists': 0, 'deaths': True}, 'Viper': {'kills': 0, 'assists': 2, 'deaths': False}, 'Frost': {'kills': 1, 'assists': 1, 'deaths': True}, 'Reaper': {'kills': 1, 'assists': 1, 'deaths': False}}\n",
      "{'kills': 1, 'assists': 1, 'deaths': True}\n",
      "Ronda {'Shadow': {'kills': 2, 'assists': 1, 'deaths': False}, 'Blaze': {'kills': 1, 'assists': 0, 'deaths': True}, 'Viper': {'kills': 0, 'assists': 2, 'deaths': False}, 'Frost': {'kills': 1, 'assists': 1, 'deaths': True}, 'Reaper': {'kills': 1, 'assists': 1, 'deaths': False}}\n",
      "{'kills': 1, 'assists': 1, 'deaths': False}\n",
      "Ronda {'Shadow': {'kills': 1, 'assists': 2, 'deaths': True}, 'Blaze': {'kills': 0, 'assists': 1, 'deaths': False}, 'Viper': {'kills': 2, 'assists': 0, 'deaths': True}, 'Frost': {'kills': 1, 'assists': 1, 'deaths': False}, 'Reaper': {'kills': 1, 'assists': 1, 'deaths': True}}\n",
      "{'kills': 1, 'assists': 2, 'deaths': True}\n",
      "Ronda {'Shadow': {'kills': 1, 'assists': 2, 'deaths': True}, 'Blaze': {'kills': 0, 'assists': 1, 'deaths': False}, 'Viper': {'kills': 2, 'assists': 0, 'deaths': True}, 'Frost': {'kills': 1, 'assists': 1, 'deaths': False}, 'Reaper': {'kills': 1, 'assists': 1, 'deaths': True}}\n",
      "{'kills': 0, 'assists': 1, 'deaths': False}\n",
      "Ronda {'Shadow': {'kills': 1, 'assists': 2, 'deaths': True}, 'Blaze': {'kills': 0, 'assists': 1, 'deaths': False}, 'Viper': {'kills': 2, 'assists': 0, 'deaths': True}, 'Frost': {'kills': 1, 'assists': 1, 'deaths': False}, 'Reaper': {'kills': 1, 'assists': 1, 'deaths': True}}\n",
      "{'kills': 2, 'assists': 0, 'deaths': True}\n",
      "Ronda {'Shadow': {'kills': 1, 'assists': 2, 'deaths': True}, 'Blaze': {'kills': 0, 'assists': 1, 'deaths': False}, 'Viper': {'kills': 2, 'assists': 0, 'deaths': True}, 'Frost': {'kills': 1, 'assists': 1, 'deaths': False}, 'Reaper': {'kills': 1, 'assists': 1, 'deaths': True}}\n",
      "{'kills': 1, 'assists': 1, 'deaths': False}\n",
      "Ronda {'Shadow': {'kills': 1, 'assists': 2, 'deaths': True}, 'Blaze': {'kills': 0, 'assists': 1, 'deaths': False}, 'Viper': {'kills': 2, 'assists': 0, 'deaths': True}, 'Frost': {'kills': 1, 'assists': 1, 'deaths': False}, 'Reaper': {'kills': 1, 'assists': 1, 'deaths': True}}\n",
      "{'kills': 1, 'assists': 1, 'deaths': True}\n"
     ]
    }
   ],
   "source": [
    "puntajes={\"kills\":3,\"assists\":2,\"deaths\":-1}\n",
    "\n",
    "for round in rounds:\n",
    "    for team,stats in round.items():\n",
    "        ['kills','assists','deaths']:[0,0,0]"
   ]
  }
 ],
 "metadata": {
  "kernelspec": {
   "display_name": "venv",
   "language": "python",
   "name": "python3"
  },
  "language_info": {
   "codemirror_mode": {
    "name": "ipython",
    "version": 3
   },
   "file_extension": ".py",
   "mimetype": "text/x-python",
   "name": "python",
   "nbconvert_exporter": "python",
   "pygments_lexer": "ipython3",
   "version": "3.12.9"
  }
 },
 "nbformat": 4,
 "nbformat_minor": 2
}
